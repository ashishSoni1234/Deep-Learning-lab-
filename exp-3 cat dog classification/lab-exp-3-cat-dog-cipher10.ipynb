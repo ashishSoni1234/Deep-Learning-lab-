{
 "cells": [
  {
   "cell_type": "code",
   "execution_count": 1,
   "id": "4e2153e4",
   "metadata": {
    "_cell_guid": "b1076dfc-b9ad-4769-8c92-a6c4dae69d19",
    "_uuid": "8f2839f25d086af736a60e9eeb907d3b93b6e0e5",
    "execution": {
     "iopub.execute_input": "2025-02-01T19:11:07.452142Z",
     "iopub.status.busy": "2025-02-01T19:11:07.451885Z",
     "iopub.status.idle": "2025-02-01T19:11:08.198474Z",
     "shell.execute_reply": "2025-02-01T19:11:08.197571Z"
    },
    "papermill": {
     "duration": 0.752166,
     "end_time": "2025-02-01T19:11:08.200045",
     "exception": false,
     "start_time": "2025-02-01T19:11:07.447879",
     "status": "completed"
    },
    "tags": []
   },
   "outputs": [],
   "source": [
    "# This Python 3 environment comes with many helpful analytics libraries installed\n",
    "# It is defined by the kaggle/python Docker image: https://github.com/kaggle/docker-python\n",
    "# For example, here's several helpful packages to load\n",
    "\n",
    "import numpy as np # linear algebra\n",
    "import pandas as pd # data processing, CSV file I/O (e.g. pd.read_csv)\n",
    "\n",
    "# Input data files are available in the read-only \"../input/\" directory\n",
    "# For example, running this (by clicking run or pressing Shift+Enter) will list all files under the input directory\n",
    "\n",
    "import os\n",
    "\n",
    "# You can write up to 20GB to the current directory (/kaggle/working/) that gets preserved as output when you create a version using \"Save & Run All\" \n",
    "# You can also write temporary files to /kaggle/temp/, but they won't be saved outside of the current session"
   ]
  },
  {
   "cell_type": "code",
   "execution_count": 2,
   "id": "e0a4932f",
   "metadata": {
    "execution": {
     "iopub.execute_input": "2025-02-01T19:11:08.206953Z",
     "iopub.status.busy": "2025-02-01T19:11:08.206594Z",
     "iopub.status.idle": "2025-02-01T19:11:11.280951Z",
     "shell.execute_reply": "2025-02-01T19:11:11.280041Z"
    },
    "papermill": {
     "duration": 3.079198,
     "end_time": "2025-02-01T19:11:11.282603",
     "exception": false,
     "start_time": "2025-02-01T19:11:08.203405",
     "status": "completed"
    },
    "tags": []
   },
   "outputs": [],
   "source": [
    "import random\n",
    "import torch\n",
    "\n",
    "\n",
    "def set_seed(seed):\n",
    "    # Set the seed for reproducibility\n",
    "    random.seed(seed)  # Python random module\n",
    "    np.random.seed(seed)  # Numpy random module\n",
    "    torch.manual_seed(seed)  # PyTorch CPU\n",
    "    torch.cuda.manual_seed(seed)  # PyTorch GPU\n",
    "    torch.cuda.manual_seed_all(seed)  # For multi-GPU setups\n",
    "    torch.backends.cudnn.deterministic = True  # Ensure deterministic algorithms\n",
    "    torch.backends.cudnn.benchmark = False  # Disable non-deterministic algorithms\n",
    "\n",
    "learning_rate = 0.001\n",
    "\n",
    "# Set the seed\n",
    "seed_value = 42  # Example seed value\n",
    "set_seed(seed_value)\n",
    "\n",
    "num_classes = 2"
   ]
  },
  {
   "cell_type": "code",
   "execution_count": 3,
   "id": "ea84aeee",
   "metadata": {
    "execution": {
     "iopub.execute_input": "2025-02-01T19:11:11.289841Z",
     "iopub.status.busy": "2025-02-01T19:11:11.289476Z",
     "iopub.status.idle": "2025-02-01T19:11:11.339636Z",
     "shell.execute_reply": "2025-02-01T19:11:11.338728Z"
    },
    "papermill": {
     "duration": 0.054838,
     "end_time": "2025-02-01T19:11:11.341083",
     "exception": false,
     "start_time": "2025-02-01T19:11:11.286245",
     "status": "completed"
    },
    "tags": []
   },
   "outputs": [
    {
     "name": "stdout",
     "output_type": "stream",
     "text": [
      "Width: 300, Height: 280, Channels: 3\n"
     ]
    }
   ],
   "source": [
    "# Dimensions of Image\n",
    "import numpy as np\n",
    "from PIL import Image\n",
    "\n",
    "image = Image.open('/kaggle/input/cat-and-dog/training_set/training_set/cats/cat.1.jpg')\n",
    "array = np.array(image)\n",
    "height, width, channels = array.shape\n",
    "print(f\"Width: {width}, Height: {height}, Channels: {channels}\")"
   ]
  },
  {
   "cell_type": "code",
   "execution_count": 4,
   "id": "c8d7ef2d",
   "metadata": {
    "execution": {
     "iopub.execute_input": "2025-02-01T19:11:11.347420Z",
     "iopub.status.busy": "2025-02-01T19:11:11.347198Z",
     "iopub.status.idle": "2025-02-01T19:11:11.395522Z",
     "shell.execute_reply": "2025-02-01T19:11:11.394769Z"
    },
    "papermill": {
     "duration": 0.052635,
     "end_time": "2025-02-01T19:11:11.396653",
     "exception": false,
     "start_time": "2025-02-01T19:11:11.344018",
     "status": "completed"
    },
    "tags": []
   },
   "outputs": [
    {
     "name": "stdout",
     "output_type": "stream",
     "text": [
      "Using device: cuda\n"
     ]
    }
   ],
   "source": [
    "device = torch.device('cuda' if torch.cuda.is_available() else 'cpu')\n",
    "print(f'Using device: {device}')\n",
    "# torch.cuda.empty_cache()"
   ]
  },
  {
   "cell_type": "code",
   "execution_count": 5,
   "id": "d4c0fdf6",
   "metadata": {
    "execution": {
     "iopub.execute_input": "2025-02-01T19:11:11.402819Z",
     "iopub.status.busy": "2025-02-01T19:11:11.402598Z",
     "iopub.status.idle": "2025-02-01T19:12:33.432319Z",
     "shell.execute_reply": "2025-02-01T19:12:33.431347Z"
    },
    "papermill": {
     "duration": 82.036935,
     "end_time": "2025-02-01T19:12:33.436377",
     "exception": false,
     "start_time": "2025-02-01T19:11:11.399442",
     "status": "completed"
    },
    "tags": []
   },
   "outputs": [
    {
     "name": "stdout",
     "output_type": "stream",
     "text": [
      "Tensor dim: torch.Size([3, 224, 224])\n"
     ]
    }
   ],
   "source": [
    "import os\n",
    "from PIL import Image\n",
    "from os.path import join\n",
    "from torchvision import transforms\n",
    "from torch.utils.data import random_split\n",
    "\n",
    "# Paths to datasets\n",
    "input_train_dir = '/kaggle/input/cat-and-dog/training_set/training_set'\n",
    "input_test_dir = '/kaggle/input/cat-and-dog/test_set/test_set'\n",
    "\n",
    "# Transformation for training (with augmentation)\n",
    "train_transform = transforms.Compose([\n",
    "    transforms.Resize((224, 224)),\n",
    "    transforms.RandomHorizontalFlip(p=0.5),  # Flip images randomly\n",
    "    transforms.ToTensor(),  # Convert to tensor\n",
    "    transforms.Normalize(mean=[0.485, 0.456, 0.406], std=[0.229, 0.224, 0.225])  # Normalize like ImageNet\n",
    "])\n",
    "\n",
    "# Transformation for testing (no augmentation)\n",
    "test_transform = transforms.Compose([\n",
    "    transforms.Resize((224, 224)),\n",
    "    transforms.ToTensor(),\n",
    "    transforms.Normalize(mean=[0.485, 0.456, 0.406], std=[0.229, 0.224, 0.225])\n",
    "])\n",
    "\n",
    "# Initialize datasets\n",
    "train_dataset = [] \n",
    "train_labels = []\n",
    "test_dataset = []\n",
    "test_labels = []\n",
    "label_map = {'cats': 0, 'dogs': 1}\n",
    "\n",
    "# Load training data\n",
    "for category in os.listdir(input_train_dir):\n",
    "    path = join(input_train_dir, category)\n",
    "    for image_file in os.listdir(path):\n",
    "        if not image_file.endswith('.jpg'):\n",
    "            continue\n",
    "        image_path = join(path, image_file)\n",
    "        image = Image.open(image_path).convert(\"RGB\")  # Ensure 3-channel format\n",
    "        image_tensor = train_transform(image).to(device)  # Apply transformations\n",
    "        train_dataset.append(image_tensor)\n",
    "        train_labels.append(label_map[category])\n",
    "\n",
    "# Load test data\n",
    "for category in os.listdir(input_test_dir):\n",
    "    path = join(input_test_dir, category)\n",
    "    for image_file in os.listdir(path):\n",
    "        if not image_file.endswith('.jpg'):\n",
    "            continue\n",
    "        image_path = join(path, image_file)\n",
    "        image = Image.open(image_path).convert(\"RGB\")\n",
    "        image_tensor = test_transform(image).to(device)\n",
    "        test_dataset.append(image_tensor)\n",
    "        test_labels.append(label_map[category])\n",
    "\n",
    "print(f\"Tensor dim: {train_dataset[0].shape}\")\n"
   ]
  },
  {
   "cell_type": "code",
   "execution_count": 6,
   "id": "d631c25a",
   "metadata": {
    "execution": {
     "iopub.execute_input": "2025-02-01T19:12:33.443053Z",
     "iopub.status.busy": "2025-02-01T19:12:33.442593Z",
     "iopub.status.idle": "2025-02-01T19:12:33.518830Z",
     "shell.execute_reply": "2025-02-01T19:12:33.517885Z"
    },
    "papermill": {
     "duration": 0.081004,
     "end_time": "2025-02-01T19:12:33.520197",
     "exception": false,
     "start_time": "2025-02-01T19:12:33.439193",
     "status": "completed"
    },
    "tags": []
   },
   "outputs": [
    {
     "name": "stdout",
     "output_type": "stream",
     "text": [
      "Train size: 6404, Val size: 1601\n"
     ]
    }
   ],
   "source": [
    "from torch.utils.data import random_split\n",
    "split = 0.8\n",
    "# Convert lists to tensors\n",
    "train_dataset = torch.stack(train_dataset)\n",
    "train_labels = torch.tensor(train_labels)\n",
    "\n",
    "# Define split ratio (e.g., 80% train, 20% validation)\n",
    "train_size = int(split * len(train_dataset))\n",
    "val_size = len(train_dataset) - train_size\n",
    "\n",
    "# Use random_split to split dataset\n",
    "train_data, val_data = random_split(list(zip(train_dataset, train_labels)), [train_size, val_size])\n",
    "\n",
    "# Convert back to separate lists\n",
    "train_dataset, train_labels = zip(*train_data)\n",
    "val_dataset, val_labels = zip(*val_data)\n",
    "\n",
    "# Convert back to PyTorch tensors\n",
    "train_dataset = list(train_dataset)\n",
    "train_labels = list(train_labels)\n",
    "val_dataset = list(val_dataset)\n",
    "val_labels = list(val_labels)\n",
    "\n",
    "print(f\"Train size: {len(train_dataset)}, Val size: {len(val_dataset)}\")\n"
   ]
  },
  {
   "cell_type": "code",
   "execution_count": 7,
   "id": "beddf332",
   "metadata": {
    "execution": {
     "iopub.execute_input": "2025-02-01T19:12:33.526729Z",
     "iopub.status.busy": "2025-02-01T19:12:33.526496Z",
     "iopub.status.idle": "2025-02-01T19:12:33.883391Z",
     "shell.execute_reply": "2025-02-01T19:12:33.882499Z"
    },
    "papermill": {
     "duration": 0.361527,
     "end_time": "2025-02-01T19:12:33.884705",
     "exception": false,
     "start_time": "2025-02-01T19:12:33.523178",
     "status": "completed"
    },
    "tags": []
   },
   "outputs": [
    {
     "name": "stdout",
     "output_type": "stream",
     "text": [
      "Batch Tensor Shape: torch.Size([16, 3, 224, 224]), Labels Shape: torch.Size([16])\n"
     ]
    }
   ],
   "source": [
    "# Creating Data Loaders\n",
    "\n",
    "from torch.utils.data import DataLoader, TensorDataset\n",
    "\n",
    "\n",
    "val_dataset = TensorDataset(torch.stack(val_dataset), torch.tensor(val_labels))\n",
    "val_loader = DataLoader(val_dataset, batch_size=16, shuffle=True)\n",
    "\n",
    "train_dataset = TensorDataset(torch.stack(train_dataset), torch.tensor(train_labels))\n",
    "train_loader = DataLoader(train_dataset, batch_size=16, shuffle=True)\n",
    "\n",
    "test_dataset = TensorDataset(torch.stack(test_dataset), torch.tensor(test_labels))\n",
    "test_loader = DataLoader(test_dataset, batch_size=16, shuffle=False)\n",
    "# Check batch shape\n",
    "for images, labels in train_loader:\n",
    "    print(f\"Batch Tensor Shape: {images.shape}, Labels Shape: {labels.shape}\")\n",
    "    break"
   ]
  },
  {
   "cell_type": "code",
   "execution_count": 8,
   "id": "013ab379",
   "metadata": {
    "execution": {
     "iopub.execute_input": "2025-02-01T19:12:33.891393Z",
     "iopub.status.busy": "2025-02-01T19:12:33.891168Z",
     "iopub.status.idle": "2025-02-01T19:12:33.902530Z",
     "shell.execute_reply": "2025-02-01T19:12:33.901841Z"
    },
    "papermill": {
     "duration": 0.015971,
     "end_time": "2025-02-01T19:12:33.903724",
     "exception": false,
     "start_time": "2025-02-01T19:12:33.887753",
     "status": "completed"
    },
    "tags": []
   },
   "outputs": [],
   "source": [
    "import torch\n",
    "import torch.nn as nn\n",
    "import torch.nn.functional as F\n",
    "\n",
    "# Function to initialize weights\n",
    "def initialize_weights(model):\n",
    "    for m in model.modules():\n",
    "        if isinstance(m, nn.Conv2d) or isinstance(m, nn.Linear):\n",
    "            nn.init.kaiming_uniform_(m.weight, nonlinearity=\"relu\")\n",
    "            if m.bias is not None:\n",
    "                nn.init.zeros_(m.bias)\n",
    "\n",
    "# Preactivation Block without Skip Connections\n",
    "class PreActBlock(nn.Module):\n",
    "    def __init__(self, in_channels, out_channels, stride=1, dropout_prob=0.3):\n",
    "        super(PreActBlock, self).__init__()\n",
    "        \n",
    "        self.bn1 = nn.BatchNorm2d(in_channels)\n",
    "        self.conv1 = nn.Conv2d(in_channels, out_channels, kernel_size=3, stride=stride, padding=1, bias=False)\n",
    "        self.dropout1 = nn.Dropout2d(p=dropout_prob)\n",
    "        \n",
    "        self.bn2 = nn.BatchNorm2d(out_channels)\n",
    "        self.conv2 = nn.Conv2d(out_channels, out_channels, kernel_size=3, stride=1, padding=1, bias=False)\n",
    "        self.dropout2 = nn.Dropout2d(p=dropout_prob)\n",
    "        \n",
    "        self.activation = nn.ReLU(inplace=True)\n",
    "    \n",
    "    def forward(self, x):\n",
    "        out = self.bn1(x)\n",
    "        out = self.activation(out)\n",
    "        out = self.conv1(out)\n",
    "        out = self.dropout1(out)\n",
    "        \n",
    "        out = self.bn2(out)\n",
    "        out = self.activation(out)\n",
    "        out = self.conv2(out)\n",
    "        out = self.dropout2(out)\n",
    "        \n",
    "        return out\n",
    "\n",
    "# ResNet-10 Model without Skip Connections\n",
    "class ResNet10(nn.Module):\n",
    "    def __init__(self, num_classes=10, dropout_prob=0.3):\n",
    "        super(ResNet10, self).__init__()\n",
    "        \n",
    "        self.in_channels = 64\n",
    "        self.conv1 = nn.Conv2d(3, 64, kernel_size=3, stride=1, padding=1, bias=False)\n",
    "        self.bn1 = nn.BatchNorm2d(64)\n",
    "        self.activation = nn.ReLU(inplace=True)\n",
    "        \n",
    "        self.layer1 = self._make_layer(64, 2, stride=1, dropout_prob=dropout_prob)\n",
    "        self.layer2 = self._make_layer(128, 2, stride=2, dropout_prob=dropout_prob)\n",
    "        self.layer3 = self._make_layer(256, 2, stride=2, dropout_prob=dropout_prob)\n",
    "        self.layer4 = self._make_layer(512, 2, stride=2, dropout_prob=dropout_prob)\n",
    "\n",
    "        self.avgpool = nn.AdaptiveAvgPool2d((1, 1))\n",
    "        self.fc = nn.Linear(512, num_classes)\n",
    "\n",
    "        # Apply weight initialization\n",
    "        initialize_weights(self)\n",
    "    \n",
    "    def _make_layer(self, out_channels, blocks, stride, dropout_prob):\n",
    "        layers = []\n",
    "        layers.append(PreActBlock(self.in_channels, out_channels, stride, dropout_prob))\n",
    "        self.in_channels = out_channels  # Update for next blocks\n",
    "        \n",
    "        for _ in range(1, blocks):\n",
    "            layers.append(PreActBlock(out_channels, out_channels, dropout_prob=dropout_prob))\n",
    "        \n",
    "        return nn.Sequential(*layers)\n",
    "\n",
    "    def forward(self, x):\n",
    "        x = self.conv1(x)\n",
    "        x = self.bn1(x)\n",
    "        x = self.activation(x)\n",
    "\n",
    "        x = self.layer1(x)\n",
    "        x = self.layer2(x)\n",
    "        x = self.layer3(x)\n",
    "        x = self.layer4(x)\n",
    "\n",
    "        x = self.avgpool(x)\n",
    "        x = torch.flatten(x, 1)\n",
    "        x = self.fc(x)\n",
    "        \n",
    "        return x"
   ]
  },
  {
   "cell_type": "code",
   "execution_count": 9,
   "id": "7048c40c",
   "metadata": {
    "execution": {
     "iopub.execute_input": "2025-02-01T19:12:33.910125Z",
     "iopub.status.busy": "2025-02-01T19:12:33.909881Z",
     "iopub.status.idle": "2025-02-01T19:12:33.917182Z",
     "shell.execute_reply": "2025-02-01T19:12:33.916406Z"
    },
    "papermill": {
     "duration": 0.011829,
     "end_time": "2025-02-01T19:12:33.918375",
     "exception": false,
     "start_time": "2025-02-01T19:12:33.906546",
     "status": "completed"
    },
    "tags": []
   },
   "outputs": [],
   "source": [
    "# Training function\n",
    "def train_model(model, train_loader, val_loader, criterion, optimizer, num_epochs=1000, save_req=False):\n",
    "    best_accuracy = 0.0  # Store the best accuracy\n",
    "    best_loss = float(\"inf\")  # Store the best loss\n",
    "\n",
    "    for epoch in range(num_epochs):\n",
    "        model.train()  # Set the model to training mode\n",
    "        running_loss = 0.0\n",
    "        correct = 0\n",
    "        total = 0\n",
    "\n",
    "        # Training loop\n",
    "        for images, labels in train_loader:\n",
    "            images, labels = images.to(device), labels.to(device)\n",
    "\n",
    "            # Forward pass\n",
    "            outputs = model(images)\n",
    "            loss = criterion(outputs, labels)\n",
    "\n",
    "            # Backward pass and optimization\n",
    "            optimizer.zero_grad()\n",
    "            loss.backward()\n",
    "            optimizer.step()\n",
    "\n",
    "            running_loss += loss.item()\n",
    "\n",
    "            # Compute accuracy\n",
    "            _, predictions = torch.max(outputs, 1)\n",
    "            total += labels.size(0)\n",
    "            correct += (predictions == labels).sum().item()\n",
    "\n",
    "        epoch_loss = running_loss / len(train_loader)\n",
    "        epoch_accuracy = (correct / total) * 100\n",
    "\n",
    "        # Validation loop\n",
    "        model.eval()  # Set the model to evaluation mode\n",
    "        val_loss = 0.0\n",
    "        val_correct = 0\n",
    "        val_total = 0\n",
    "\n",
    "        with torch.no_grad():  # No gradients needed during evaluation\n",
    "            for images, labels in val_loader:\n",
    "                images, labels = images.to(device), labels.to(device)\n",
    "\n",
    "                # Forward pass\n",
    "                outputs = model(images)\n",
    "                loss = criterion(outputs, labels)\n",
    "\n",
    "                val_loss += loss.item()\n",
    "\n",
    "                _, predictions = torch.max(outputs, 1)\n",
    "                val_total += labels.size(0)\n",
    "                val_correct += (predictions == labels).sum().item()\n",
    "\n",
    "        val_accuracy = (val_correct / val_total) * 100\n",
    "        val_loss = val_loss / len(val_loader)\n",
    "\n",
    "        print(f\"Epoch [{epoch+1}/{num_epochs}], Loss: {epoch_loss:.4f}, Accuracy: {epoch_accuracy:.2f}%\")\n",
    "        print(f\"Validation Loss: {val_loss:.4f}, Validation Accuracy: {val_accuracy:.2f}%\")\n",
    "\n",
    "        # Save the best model based on validation accuracy\n",
    "        if val_accuracy > best_accuracy:\n",
    "            best_accuracy = val_accuracy\n",
    "            best_loss = val_loss\n",
    "            if save_req:\n",
    "                torch.save(model.state_dict(), \"best_model.pth\")\n",
    "                print(f\"✅ Best model saved with Validation Accuracy: {best_accuracy:.2f}%\")\n",
    "\n",
    "    return best_accuracy, best_loss\n"
   ]
  },
  {
   "cell_type": "code",
   "execution_count": 10,
   "id": "bab8be18",
   "metadata": {
    "execution": {
     "iopub.execute_input": "2025-02-01T19:12:33.924849Z",
     "iopub.status.busy": "2025-02-01T19:12:33.924615Z"
    },
    "papermill": {
     "duration": null,
     "end_time": null,
     "exception": false,
     "start_time": "2025-02-01T19:12:33.921219",
     "status": "running"
    },
    "tags": []
   },
   "outputs": [
    {
     "name": "stdout",
     "output_type": "stream",
     "text": [
      "Epoch [1/500], Loss: 1.5677, Accuracy: 49.83%\n",
      "Validation Loss: 0.7078, Validation Accuracy: 51.78%\n",
      "✅ Best model saved with Validation Accuracy: 51.78%\n"
     ]
    },
    {
     "name": "stdout",
     "output_type": "stream",
     "text": [
      "Epoch [2/500], Loss: 0.7655, Accuracy: 50.72%\n",
      "Validation Loss: 0.7006, Validation Accuracy: 48.22%\n"
     ]
    },
    {
     "name": "stdout",
     "output_type": "stream",
     "text": [
      "Epoch [3/500], Loss: 0.7117, Accuracy: 52.40%\n",
      "Validation Loss: 0.7435, Validation Accuracy: 48.22%\n"
     ]
    },
    {
     "name": "stdout",
     "output_type": "stream",
     "text": [
      "Epoch [4/500], Loss: 0.7103, Accuracy: 50.42%\n",
      "Validation Loss: 0.6949, Validation Accuracy: 48.22%\n"
     ]
    },
    {
     "name": "stdout",
     "output_type": "stream",
     "text": [
      "Epoch [5/500], Loss: 0.7080, Accuracy: 50.73%\n",
      "Validation Loss: 0.6938, Validation Accuracy: 51.78%\n"
     ]
    },
    {
     "name": "stdout",
     "output_type": "stream",
     "text": [
      "Epoch [6/500], Loss: 0.7065, Accuracy: 50.48%\n",
      "Validation Loss: 0.6947, Validation Accuracy: 51.78%\n"
     ]
    },
    {
     "name": "stdout",
     "output_type": "stream",
     "text": [
      "Epoch [7/500], Loss: 0.7051, Accuracy: 50.17%\n",
      "Validation Loss: 0.7035, Validation Accuracy: 48.22%\n"
     ]
    },
    {
     "name": "stdout",
     "output_type": "stream",
     "text": [
      "Epoch [8/500], Loss: 0.7017, Accuracy: 52.33%\n",
      "Validation Loss: 0.6963, Validation Accuracy: 48.22%\n"
     ]
    },
    {
     "name": "stdout",
     "output_type": "stream",
     "text": [
      "Epoch [9/500], Loss: 0.6969, Accuracy: 51.17%\n",
      "Validation Loss: 0.6992, Validation Accuracy: 48.97%\n"
     ]
    },
    {
     "name": "stdout",
     "output_type": "stream",
     "text": [
      "Epoch [10/500], Loss: 0.6984, Accuracy: 52.56%\n",
      "Validation Loss: 0.6987, Validation Accuracy: 48.22%\n"
     ]
    },
    {
     "name": "stdout",
     "output_type": "stream",
     "text": [
      "Epoch [11/500], Loss: 0.6969, Accuracy: 51.16%\n",
      "Validation Loss: 0.6902, Validation Accuracy: 52.47%\n",
      "✅ Best model saved with Validation Accuracy: 52.47%\n"
     ]
    },
    {
     "name": "stdout",
     "output_type": "stream",
     "text": [
      "Epoch [12/500], Loss: 0.6977, Accuracy: 52.25%\n",
      "Validation Loss: 0.6959, Validation Accuracy: 53.84%\n",
      "✅ Best model saved with Validation Accuracy: 53.84%\n"
     ]
    },
    {
     "name": "stdout",
     "output_type": "stream",
     "text": [
      "Epoch [13/500], Loss: 0.6918, Accuracy: 53.17%\n",
      "Validation Loss: 0.6999, Validation Accuracy: 48.28%\n"
     ]
    },
    {
     "name": "stdout",
     "output_type": "stream",
     "text": [
      "Epoch [14/500], Loss: 0.6952, Accuracy: 51.56%\n",
      "Validation Loss: 0.7267, Validation Accuracy: 48.91%\n"
     ]
    },
    {
     "name": "stdout",
     "output_type": "stream",
     "text": [
      "Epoch [15/500], Loss: 0.6963, Accuracy: 50.45%\n",
      "Validation Loss: 0.7242, Validation Accuracy: 49.59%\n"
     ]
    },
    {
     "name": "stdout",
     "output_type": "stream",
     "text": [
      "Epoch [16/500], Loss: 0.6974, Accuracy: 51.30%\n",
      "Validation Loss: 0.6951, Validation Accuracy: 48.66%\n"
     ]
    },
    {
     "name": "stdout",
     "output_type": "stream",
     "text": [
      "Epoch [17/500], Loss: 0.6977, Accuracy: 50.30%\n",
      "Validation Loss: 0.6943, Validation Accuracy: 49.16%\n"
     ]
    },
    {
     "name": "stdout",
     "output_type": "stream",
     "text": [
      "Epoch [18/500], Loss: 0.6990, Accuracy: 50.09%\n",
      "Validation Loss: 0.6935, Validation Accuracy: 48.78%\n"
     ]
    },
    {
     "name": "stdout",
     "output_type": "stream",
     "text": [
      "Epoch [19/500], Loss: 0.6976, Accuracy: 50.30%\n",
      "Validation Loss: 0.8453, Validation Accuracy: 48.28%\n"
     ]
    },
    {
     "name": "stdout",
     "output_type": "stream",
     "text": [
      "Epoch [20/500], Loss: 0.6995, Accuracy: 50.16%\n",
      "Validation Loss: 0.7403, Validation Accuracy: 48.22%\n"
     ]
    },
    {
     "name": "stdout",
     "output_type": "stream",
     "text": [
      "Epoch [21/500], Loss: 0.6997, Accuracy: 50.20%\n",
      "Validation Loss: 0.9594, Validation Accuracy: 49.72%\n"
     ]
    },
    {
     "name": "stdout",
     "output_type": "stream",
     "text": [
      "Epoch [22/500], Loss: 0.7014, Accuracy: 50.91%\n",
      "Validation Loss: 0.6964, Validation Accuracy: 51.66%\n"
     ]
    },
    {
     "name": "stdout",
     "output_type": "stream",
     "text": [
      "Epoch [23/500], Loss: 0.7010, Accuracy: 51.39%\n",
      "Validation Loss: 0.6999, Validation Accuracy: 51.78%\n"
     ]
    },
    {
     "name": "stdout",
     "output_type": "stream",
     "text": [
      "Epoch [24/500], Loss: 0.6916, Accuracy: 54.47%\n",
      "Validation Loss: 0.6979, Validation Accuracy: 53.15%\n"
     ]
    },
    {
     "name": "stdout",
     "output_type": "stream",
     "text": [
      "Epoch [25/500], Loss: 0.6874, Accuracy: 55.50%\n",
      "Validation Loss: 0.7540, Validation Accuracy: 52.47%\n"
     ]
    },
    {
     "name": "stdout",
     "output_type": "stream",
     "text": [
      "Epoch [26/500], Loss: 0.6852, Accuracy: 56.46%\n",
      "Validation Loss: 0.6927, Validation Accuracy: 53.34%\n"
     ]
    },
    {
     "name": "stdout",
     "output_type": "stream",
     "text": [
      "Epoch [27/500], Loss: 0.6838, Accuracy: 56.39%\n",
      "Validation Loss: 0.7276, Validation Accuracy: 54.90%\n",
      "✅ Best model saved with Validation Accuracy: 54.90%\n"
     ]
    },
    {
     "name": "stdout",
     "output_type": "stream",
     "text": [
      "Epoch [28/500], Loss: 0.6797, Accuracy: 57.95%\n",
      "Validation Loss: 0.7069, Validation Accuracy: 53.47%\n"
     ]
    },
    {
     "name": "stdout",
     "output_type": "stream",
     "text": [
      "Epoch [29/500], Loss: 0.6774, Accuracy: 59.10%\n",
      "Validation Loss: 0.7164, Validation Accuracy: 56.71%\n",
      "✅ Best model saved with Validation Accuracy: 56.71%\n"
     ]
    },
    {
     "name": "stdout",
     "output_type": "stream",
     "text": [
      "Epoch [30/500], Loss: 0.6760, Accuracy: 59.12%\n",
      "Validation Loss: 0.7084, Validation Accuracy: 56.28%\n"
     ]
    },
    {
     "name": "stdout",
     "output_type": "stream",
     "text": [
      "Epoch [31/500], Loss: 0.6712, Accuracy: 60.20%\n",
      "Validation Loss: 0.6881, Validation Accuracy: 56.84%\n",
      "✅ Best model saved with Validation Accuracy: 56.84%\n"
     ]
    },
    {
     "name": "stdout",
     "output_type": "stream",
     "text": [
      "Epoch [32/500], Loss: 0.6747, Accuracy: 58.89%\n",
      "Validation Loss: 0.6942, Validation Accuracy: 56.28%\n"
     ]
    },
    {
     "name": "stdout",
     "output_type": "stream",
     "text": [
      "Epoch [33/500], Loss: 0.6680, Accuracy: 60.51%\n",
      "Validation Loss: 0.6939, Validation Accuracy: 56.21%\n"
     ]
    },
    {
     "name": "stdout",
     "output_type": "stream",
     "text": [
      "Epoch [34/500], Loss: 0.6675, Accuracy: 61.29%\n",
      "Validation Loss: 0.6883, Validation Accuracy: 57.96%\n",
      "✅ Best model saved with Validation Accuracy: 57.96%\n"
     ]
    },
    {
     "name": "stdout",
     "output_type": "stream",
     "text": [
      "Epoch [35/500], Loss: 0.6642, Accuracy: 61.48%\n",
      "Validation Loss: 0.6932, Validation Accuracy: 56.40%\n"
     ]
    },
    {
     "name": "stdout",
     "output_type": "stream",
     "text": [
      "Epoch [36/500], Loss: 0.6652, Accuracy: 61.02%\n",
      "Validation Loss: 0.6843, Validation Accuracy: 58.21%\n",
      "✅ Best model saved with Validation Accuracy: 58.21%\n"
     ]
    },
    {
     "name": "stdout",
     "output_type": "stream",
     "text": [
      "Epoch [37/500], Loss: 0.6616, Accuracy: 61.59%\n",
      "Validation Loss: 0.6957, Validation Accuracy: 58.84%\n",
      "✅ Best model saved with Validation Accuracy: 58.84%\n"
     ]
    },
    {
     "name": "stdout",
     "output_type": "stream",
     "text": [
      "Epoch [38/500], Loss: 0.6597, Accuracy: 62.23%\n",
      "Validation Loss: 0.6715, Validation Accuracy: 59.15%\n",
      "✅ Best model saved with Validation Accuracy: 59.15%\n"
     ]
    },
    {
     "name": "stdout",
     "output_type": "stream",
     "text": [
      "Epoch [39/500], Loss: 0.6578, Accuracy: 62.30%\n",
      "Validation Loss: 0.6835, Validation Accuracy: 57.78%\n"
     ]
    },
    {
     "name": "stdout",
     "output_type": "stream",
     "text": [
      "Epoch [40/500], Loss: 0.6603, Accuracy: 61.32%\n",
      "Validation Loss: 0.6794, Validation Accuracy: 58.78%\n"
     ]
    },
    {
     "name": "stdout",
     "output_type": "stream",
     "text": [
      "Epoch [41/500], Loss: 0.6577, Accuracy: 62.27%\n",
      "Validation Loss: 0.6855, Validation Accuracy: 57.09%\n"
     ]
    },
    {
     "name": "stdout",
     "output_type": "stream",
     "text": [
      "Epoch [42/500], Loss: 0.6561, Accuracy: 62.57%\n",
      "Validation Loss: 0.6791, Validation Accuracy: 59.59%\n",
      "✅ Best model saved with Validation Accuracy: 59.59%\n"
     ]
    },
    {
     "name": "stdout",
     "output_type": "stream",
     "text": [
      "Epoch [43/500], Loss: 0.6511, Accuracy: 63.27%\n",
      "Validation Loss: 0.7013, Validation Accuracy: 57.21%\n"
     ]
    },
    {
     "name": "stdout",
     "output_type": "stream",
     "text": [
      "Epoch [44/500], Loss: 0.6526, Accuracy: 62.51%\n",
      "Validation Loss: 0.6820, Validation Accuracy: 57.21%\n"
     ]
    },
    {
     "name": "stdout",
     "output_type": "stream",
     "text": [
      "Epoch [45/500], Loss: 0.6505, Accuracy: 63.21%\n",
      "Validation Loss: 0.6800, Validation Accuracy: 55.15%\n"
     ]
    },
    {
     "name": "stdout",
     "output_type": "stream",
     "text": [
      "Epoch [46/500], Loss: 0.6516, Accuracy: 63.68%\n",
      "Validation Loss: 0.6666, Validation Accuracy: 60.09%\n",
      "✅ Best model saved with Validation Accuracy: 60.09%\n"
     ]
    },
    {
     "name": "stdout",
     "output_type": "stream",
     "text": [
      "Epoch [47/500], Loss: 0.6436, Accuracy: 63.90%\n",
      "Validation Loss: 0.6656, Validation Accuracy: 60.34%\n",
      "✅ Best model saved with Validation Accuracy: 60.34%\n"
     ]
    },
    {
     "name": "stdout",
     "output_type": "stream",
     "text": [
      "Epoch [48/500], Loss: 0.6408, Accuracy: 63.79%\n",
      "Validation Loss: 0.6537, Validation Accuracy: 62.40%\n",
      "✅ Best model saved with Validation Accuracy: 62.40%\n"
     ]
    },
    {
     "name": "stdout",
     "output_type": "stream",
     "text": [
      "Epoch [49/500], Loss: 0.6354, Accuracy: 64.48%\n",
      "Validation Loss: 0.6609, Validation Accuracy: 59.96%\n"
     ]
    },
    {
     "name": "stdout",
     "output_type": "stream",
     "text": [
      "Epoch [50/500], Loss: 0.6401, Accuracy: 64.33%\n",
      "Validation Loss: 0.6658, Validation Accuracy: 59.84%\n"
     ]
    },
    {
     "name": "stdout",
     "output_type": "stream",
     "text": [
      "Epoch [51/500], Loss: 0.6354, Accuracy: 65.21%\n",
      "Validation Loss: 0.6634, Validation Accuracy: 60.15%\n"
     ]
    },
    {
     "name": "stdout",
     "output_type": "stream",
     "text": [
      "Epoch [52/500], Loss: 0.6384, Accuracy: 64.63%\n",
      "Validation Loss: 0.6575, Validation Accuracy: 64.15%\n",
      "✅ Best model saved with Validation Accuracy: 64.15%\n"
     ]
    },
    {
     "name": "stdout",
     "output_type": "stream",
     "text": [
      "Epoch [53/500], Loss: 0.6369, Accuracy: 64.63%\n",
      "Validation Loss: 0.6448, Validation Accuracy: 61.46%\n"
     ]
    },
    {
     "name": "stdout",
     "output_type": "stream",
     "text": [
      "Epoch [54/500], Loss: 0.6294, Accuracy: 65.74%\n",
      "Validation Loss: 0.6442, Validation Accuracy: 62.34%\n"
     ]
    },
    {
     "name": "stdout",
     "output_type": "stream",
     "text": [
      "Epoch [55/500], Loss: 0.6269, Accuracy: 66.08%\n",
      "Validation Loss: 0.6531, Validation Accuracy: 61.34%\n"
     ]
    },
    {
     "name": "stdout",
     "output_type": "stream",
     "text": [
      "Epoch [56/500], Loss: 0.6211, Accuracy: 66.68%\n",
      "Validation Loss: 0.6356, Validation Accuracy: 62.96%\n"
     ]
    },
    {
     "name": "stdout",
     "output_type": "stream",
     "text": [
      "Epoch [57/500], Loss: 0.6247, Accuracy: 65.90%\n",
      "Validation Loss: 0.6354, Validation Accuracy: 63.65%\n"
     ]
    },
    {
     "name": "stdout",
     "output_type": "stream",
     "text": [
      "Epoch [58/500], Loss: 0.6195, Accuracy: 66.68%\n",
      "Validation Loss: 0.6535, Validation Accuracy: 61.27%\n"
     ]
    },
    {
     "name": "stdout",
     "output_type": "stream",
     "text": [
      "Epoch [59/500], Loss: 0.6273, Accuracy: 64.96%\n",
      "Validation Loss: 0.6051, Validation Accuracy: 68.77%\n",
      "✅ Best model saved with Validation Accuracy: 68.77%\n"
     ]
    },
    {
     "name": "stdout",
     "output_type": "stream",
     "text": [
      "Epoch [60/500], Loss: 0.6272, Accuracy: 65.71%\n",
      "Validation Loss: 0.6244, Validation Accuracy: 64.71%\n"
     ]
    },
    {
     "name": "stdout",
     "output_type": "stream",
     "text": [
      "Epoch [61/500], Loss: 0.6279, Accuracy: 66.16%\n",
      "Validation Loss: 0.6217, Validation Accuracy: 65.21%\n"
     ]
    },
    {
     "name": "stdout",
     "output_type": "stream",
     "text": [
      "Epoch [62/500], Loss: 0.6185, Accuracy: 66.97%\n",
      "Validation Loss: 0.6374, Validation Accuracy: 63.02%\n"
     ]
    },
    {
     "name": "stdout",
     "output_type": "stream",
     "text": [
      "Epoch [63/500], Loss: 0.6169, Accuracy: 67.13%\n",
      "Validation Loss: 0.6220, Validation Accuracy: 64.46%\n"
     ]
    },
    {
     "name": "stdout",
     "output_type": "stream",
     "text": [
      "Epoch [64/500], Loss: 0.6203, Accuracy: 66.55%\n",
      "Validation Loss: 0.6219, Validation Accuracy: 65.40%\n"
     ]
    },
    {
     "name": "stdout",
     "output_type": "stream",
     "text": [
      "Epoch [65/500], Loss: 0.6190, Accuracy: 65.79%\n",
      "Validation Loss: 0.6143, Validation Accuracy: 66.58%\n"
     ]
    },
    {
     "name": "stdout",
     "output_type": "stream",
     "text": [
      "Epoch [66/500], Loss: 0.6095, Accuracy: 67.94%\n",
      "Validation Loss: 0.5901, Validation Accuracy: 69.02%\n",
      "✅ Best model saved with Validation Accuracy: 69.02%\n"
     ]
    },
    {
     "name": "stdout",
     "output_type": "stream",
     "text": [
      "Epoch [67/500], Loss: 0.6166, Accuracy: 67.08%\n",
      "Validation Loss: 0.6006, Validation Accuracy: 68.77%\n"
     ]
    },
    {
     "name": "stdout",
     "output_type": "stream",
     "text": [
      "Epoch [68/500], Loss: 0.6091, Accuracy: 67.11%\n",
      "Validation Loss: 0.6031, Validation Accuracy: 66.46%\n"
     ]
    },
    {
     "name": "stdout",
     "output_type": "stream",
     "text": [
      "Epoch [69/500], Loss: 0.6096, Accuracy: 67.60%\n",
      "Validation Loss: 0.5931, Validation Accuracy: 69.77%\n",
      "✅ Best model saved with Validation Accuracy: 69.77%\n"
     ]
    },
    {
     "name": "stdout",
     "output_type": "stream",
     "text": [
      "Epoch [70/500], Loss: 0.6072, Accuracy: 67.77%\n",
      "Validation Loss: 0.6003, Validation Accuracy: 69.27%\n"
     ]
    },
    {
     "name": "stdout",
     "output_type": "stream",
     "text": [
      "Epoch [71/500], Loss: 0.6005, Accuracy: 68.94%\n",
      "Validation Loss: 0.5947, Validation Accuracy: 69.39%\n"
     ]
    },
    {
     "name": "stdout",
     "output_type": "stream",
     "text": [
      "Epoch [72/500], Loss: 0.6086, Accuracy: 68.16%\n",
      "Validation Loss: 0.5950, Validation Accuracy: 68.96%\n"
     ]
    },
    {
     "name": "stdout",
     "output_type": "stream",
     "text": [
      "Epoch [73/500], Loss: 0.5978, Accuracy: 68.54%\n",
      "Validation Loss: 0.6023, Validation Accuracy: 67.27%\n"
     ]
    },
    {
     "name": "stdout",
     "output_type": "stream",
     "text": [
      "Epoch [74/500], Loss: 0.6031, Accuracy: 67.88%\n",
      "Validation Loss: 0.5935, Validation Accuracy: 69.08%\n"
     ]
    },
    {
     "name": "stdout",
     "output_type": "stream",
     "text": [
      "Epoch [75/500], Loss: 0.6012, Accuracy: 68.36%\n",
      "Validation Loss: 0.6025, Validation Accuracy: 67.96%\n"
     ]
    },
    {
     "name": "stdout",
     "output_type": "stream",
     "text": [
      "Epoch [76/500], Loss: 0.5949, Accuracy: 68.72%\n",
      "Validation Loss: 0.5870, Validation Accuracy: 69.71%\n"
     ]
    },
    {
     "name": "stdout",
     "output_type": "stream",
     "text": [
      "Epoch [77/500], Loss: 0.5973, Accuracy: 68.55%\n",
      "Validation Loss: 0.6062, Validation Accuracy: 67.96%\n"
     ]
    },
    {
     "name": "stdout",
     "output_type": "stream",
     "text": [
      "Epoch [78/500], Loss: 0.5938, Accuracy: 69.32%\n",
      "Validation Loss: 0.5786, Validation Accuracy: 69.89%\n",
      "✅ Best model saved with Validation Accuracy: 69.89%\n"
     ]
    },
    {
     "name": "stdout",
     "output_type": "stream",
     "text": [
      "Epoch [79/500], Loss: 0.5948, Accuracy: 69.02%\n",
      "Validation Loss: 0.5942, Validation Accuracy: 68.52%\n"
     ]
    },
    {
     "name": "stdout",
     "output_type": "stream",
     "text": [
      "Epoch [80/500], Loss: 0.5850, Accuracy: 69.85%\n",
      "Validation Loss: 0.5681, Validation Accuracy: 70.83%\n",
      "✅ Best model saved with Validation Accuracy: 70.83%\n"
     ]
    },
    {
     "name": "stdout",
     "output_type": "stream",
     "text": [
      "Epoch [81/500], Loss: 0.5908, Accuracy: 70.21%\n",
      "Validation Loss: 0.5744, Validation Accuracy: 70.33%\n"
     ]
    },
    {
     "name": "stdout",
     "output_type": "stream",
     "text": [
      "Epoch [82/500], Loss: 0.5900, Accuracy: 70.32%\n",
      "Validation Loss: 0.5617, Validation Accuracy: 71.02%\n",
      "✅ Best model saved with Validation Accuracy: 71.02%\n"
     ]
    },
    {
     "name": "stdout",
     "output_type": "stream",
     "text": [
      "Epoch [83/500], Loss: 0.5790, Accuracy: 70.44%\n",
      "Validation Loss: 0.5817, Validation Accuracy: 68.71%\n"
     ]
    },
    {
     "name": "stdout",
     "output_type": "stream",
     "text": [
      "Epoch [84/500], Loss: 0.5849, Accuracy: 70.00%\n",
      "Validation Loss: 0.5843, Validation Accuracy: 69.52%\n"
     ]
    },
    {
     "name": "stdout",
     "output_type": "stream",
     "text": [
      "Epoch [85/500], Loss: 0.5853, Accuracy: 70.21%\n",
      "Validation Loss: 0.5832, Validation Accuracy: 68.96%\n"
     ]
    },
    {
     "name": "stdout",
     "output_type": "stream",
     "text": [
      "Epoch [86/500], Loss: 0.5896, Accuracy: 69.44%\n",
      "Validation Loss: 0.5805, Validation Accuracy: 69.33%\n"
     ]
    },
    {
     "name": "stdout",
     "output_type": "stream",
     "text": [
      "Epoch [87/500], Loss: 0.5747, Accuracy: 70.85%\n",
      "Validation Loss: 0.5929, Validation Accuracy: 67.96%\n"
     ]
    },
    {
     "name": "stdout",
     "output_type": "stream",
     "text": [
      "Epoch [88/500], Loss: 0.5827, Accuracy: 69.49%\n",
      "Validation Loss: 0.5678, Validation Accuracy: 70.83%\n"
     ]
    },
    {
     "name": "stdout",
     "output_type": "stream",
     "text": [
      "Epoch [89/500], Loss: 0.5777, Accuracy: 70.16%\n",
      "Validation Loss: 0.5768, Validation Accuracy: 69.64%\n"
     ]
    },
    {
     "name": "stdout",
     "output_type": "stream",
     "text": [
      "Epoch [90/500], Loss: 0.5749, Accuracy: 71.08%\n",
      "Validation Loss: 0.5684, Validation Accuracy: 71.64%\n",
      "✅ Best model saved with Validation Accuracy: 71.64%\n"
     ]
    },
    {
     "name": "stdout",
     "output_type": "stream",
     "text": [
      "Epoch [91/500], Loss: 0.5670, Accuracy: 71.36%\n",
      "Validation Loss: 0.5703, Validation Accuracy: 70.02%\n"
     ]
    },
    {
     "name": "stdout",
     "output_type": "stream",
     "text": [
      "Epoch [92/500], Loss: 0.5725, Accuracy: 70.80%\n",
      "Validation Loss: 0.5729, Validation Accuracy: 71.46%\n"
     ]
    },
    {
     "name": "stdout",
     "output_type": "stream",
     "text": [
      "Epoch [93/500], Loss: 0.5611, Accuracy: 72.39%\n",
      "Validation Loss: 0.5731, Validation Accuracy: 68.46%\n"
     ]
    },
    {
     "name": "stdout",
     "output_type": "stream",
     "text": [
      "Epoch [94/500], Loss: 0.5715, Accuracy: 70.69%\n",
      "Validation Loss: 0.5548, Validation Accuracy: 72.52%\n",
      "✅ Best model saved with Validation Accuracy: 72.52%\n"
     ]
    },
    {
     "name": "stdout",
     "output_type": "stream",
     "text": [
      "Epoch [95/500], Loss: 0.5555, Accuracy: 72.42%\n",
      "Validation Loss: 0.5481, Validation Accuracy: 72.95%\n",
      "✅ Best model saved with Validation Accuracy: 72.95%\n"
     ]
    },
    {
     "name": "stdout",
     "output_type": "stream",
     "text": [
      "Epoch [96/500], Loss: 0.5638, Accuracy: 71.88%\n",
      "Validation Loss: 0.5597, Validation Accuracy: 71.27%\n"
     ]
    },
    {
     "name": "stdout",
     "output_type": "stream",
     "text": [
      "Epoch [97/500], Loss: 0.5565, Accuracy: 72.94%\n",
      "Validation Loss: 0.5553, Validation Accuracy: 72.33%\n"
     ]
    },
    {
     "name": "stdout",
     "output_type": "stream",
     "text": [
      "Epoch [98/500], Loss: 0.5557, Accuracy: 72.52%\n",
      "Validation Loss: 0.5527, Validation Accuracy: 71.46%\n"
     ]
    },
    {
     "name": "stdout",
     "output_type": "stream",
     "text": [
      "Epoch [99/500], Loss: 0.5528, Accuracy: 72.39%\n",
      "Validation Loss: 0.5448, Validation Accuracy: 73.45%\n",
      "✅ Best model saved with Validation Accuracy: 73.45%\n"
     ]
    },
    {
     "name": "stdout",
     "output_type": "stream",
     "text": [
      "Epoch [100/500], Loss: 0.5516, Accuracy: 72.56%\n",
      "Validation Loss: 0.5353, Validation Accuracy: 73.58%\n",
      "✅ Best model saved with Validation Accuracy: 73.58%\n"
     ]
    },
    {
     "name": "stdout",
     "output_type": "stream",
     "text": [
      "Epoch [101/500], Loss: 0.5484, Accuracy: 72.60%\n",
      "Validation Loss: 0.5333, Validation Accuracy: 73.83%\n",
      "✅ Best model saved with Validation Accuracy: 73.83%\n"
     ]
    },
    {
     "name": "stdout",
     "output_type": "stream",
     "text": [
      "Epoch [102/500], Loss: 0.5449, Accuracy: 72.72%\n",
      "Validation Loss: 0.5829, Validation Accuracy: 72.33%\n"
     ]
    },
    {
     "name": "stdout",
     "output_type": "stream",
     "text": [
      "Epoch [103/500], Loss: 0.5416, Accuracy: 73.75%\n",
      "Validation Loss: 0.5317, Validation Accuracy: 74.14%\n",
      "✅ Best model saved with Validation Accuracy: 74.14%\n"
     ]
    },
    {
     "name": "stdout",
     "output_type": "stream",
     "text": [
      "Epoch [104/500], Loss: 0.5462, Accuracy: 72.99%\n",
      "Validation Loss: 0.5410, Validation Accuracy: 73.08%\n"
     ]
    },
    {
     "name": "stdout",
     "output_type": "stream",
     "text": [
      "Epoch [105/500], Loss: 0.5394, Accuracy: 74.11%\n",
      "Validation Loss: 0.5886, Validation Accuracy: 71.58%\n"
     ]
    },
    {
     "name": "stdout",
     "output_type": "stream",
     "text": [
      "Epoch [106/500], Loss: 0.5346, Accuracy: 74.25%\n",
      "Validation Loss: 0.5363, Validation Accuracy: 73.77%\n"
     ]
    },
    {
     "name": "stdout",
     "output_type": "stream",
     "text": [
      "Epoch [107/500], Loss: 0.5344, Accuracy: 74.14%\n",
      "Validation Loss: 0.5304, Validation Accuracy: 73.83%\n"
     ]
    },
    {
     "name": "stdout",
     "output_type": "stream",
     "text": [
      "Epoch [108/500], Loss: 0.5265, Accuracy: 74.83%\n",
      "Validation Loss: 0.5558, Validation Accuracy: 72.64%\n"
     ]
    },
    {
     "name": "stdout",
     "output_type": "stream",
     "text": [
      "Epoch [109/500], Loss: 0.5346, Accuracy: 74.13%\n",
      "Validation Loss: 0.5158, Validation Accuracy: 74.08%\n"
     ]
    },
    {
     "name": "stdout",
     "output_type": "stream",
     "text": [
      "Epoch [110/500], Loss: 0.5204, Accuracy: 74.47%\n",
      "Validation Loss: 0.5252, Validation Accuracy: 74.95%\n",
      "✅ Best model saved with Validation Accuracy: 74.95%\n"
     ]
    },
    {
     "name": "stdout",
     "output_type": "stream",
     "text": [
      "Epoch [111/500], Loss: 0.5231, Accuracy: 75.61%\n",
      "Validation Loss: 0.5581, Validation Accuracy: 73.02%\n"
     ]
    },
    {
     "name": "stdout",
     "output_type": "stream",
     "text": [
      "Epoch [112/500], Loss: 0.5221, Accuracy: 74.39%\n",
      "Validation Loss: 0.5130, Validation Accuracy: 75.08%\n",
      "✅ Best model saved with Validation Accuracy: 75.08%\n"
     ]
    },
    {
     "name": "stdout",
     "output_type": "stream",
     "text": [
      "Epoch [113/500], Loss: 0.5149, Accuracy: 75.72%\n",
      "Validation Loss: 0.5854, Validation Accuracy: 72.33%\n"
     ]
    },
    {
     "name": "stdout",
     "output_type": "stream",
     "text": [
      "Epoch [114/500], Loss: 0.5078, Accuracy: 75.41%\n",
      "Validation Loss: 0.5116, Validation Accuracy: 75.02%\n"
     ]
    },
    {
     "name": "stdout",
     "output_type": "stream",
     "text": [
      "Epoch [115/500], Loss: 0.5161, Accuracy: 75.52%\n",
      "Validation Loss: 0.5342, Validation Accuracy: 74.52%\n"
     ]
    },
    {
     "name": "stdout",
     "output_type": "stream",
     "text": [
      "Epoch [116/500], Loss: 0.5023, Accuracy: 77.15%\n",
      "Validation Loss: 0.5035, Validation Accuracy: 75.27%\n",
      "✅ Best model saved with Validation Accuracy: 75.27%\n"
     ]
    },
    {
     "name": "stdout",
     "output_type": "stream",
     "text": [
      "Epoch [117/500], Loss: 0.5025, Accuracy: 76.51%\n",
      "Validation Loss: 0.5321, Validation Accuracy: 74.83%\n"
     ]
    },
    {
     "name": "stdout",
     "output_type": "stream",
     "text": [
      "Epoch [118/500], Loss: 0.5013, Accuracy: 76.23%\n",
      "Validation Loss: 0.5176, Validation Accuracy: 75.45%\n",
      "✅ Best model saved with Validation Accuracy: 75.45%\n"
     ]
    },
    {
     "name": "stdout",
     "output_type": "stream",
     "text": [
      "Epoch [119/500], Loss: 0.4961, Accuracy: 76.67%\n",
      "Validation Loss: 0.5140, Validation Accuracy: 74.45%\n"
     ]
    },
    {
     "name": "stdout",
     "output_type": "stream",
     "text": [
      "Epoch [120/500], Loss: 0.5020, Accuracy: 76.91%\n",
      "Validation Loss: 0.5056, Validation Accuracy: 75.45%\n"
     ]
    },
    {
     "name": "stdout",
     "output_type": "stream",
     "text": [
      "Epoch [121/500], Loss: 0.4940, Accuracy: 76.76%\n",
      "Validation Loss: 0.5430, Validation Accuracy: 74.95%\n"
     ]
    },
    {
     "name": "stdout",
     "output_type": "stream",
     "text": [
      "Epoch [122/500], Loss: 0.4944, Accuracy: 76.98%\n",
      "Validation Loss: 0.5054, Validation Accuracy: 75.83%\n",
      "✅ Best model saved with Validation Accuracy: 75.83%\n"
     ]
    },
    {
     "name": "stdout",
     "output_type": "stream",
     "text": [
      "Epoch [123/500], Loss: 0.4950, Accuracy: 77.08%\n",
      "Validation Loss: 0.5368, Validation Accuracy: 75.58%\n"
     ]
    },
    {
     "name": "stdout",
     "output_type": "stream",
     "text": [
      "Epoch [124/500], Loss: 0.4906, Accuracy: 76.95%\n",
      "Validation Loss: 0.5079, Validation Accuracy: 75.14%\n"
     ]
    },
    {
     "name": "stdout",
     "output_type": "stream",
     "text": [
      "Epoch [125/500], Loss: 0.4775, Accuracy: 77.94%\n",
      "Validation Loss: 0.5007, Validation Accuracy: 77.76%\n",
      "✅ Best model saved with Validation Accuracy: 77.76%\n"
     ]
    },
    {
     "name": "stdout",
     "output_type": "stream",
     "text": [
      "Epoch [126/500], Loss: 0.4968, Accuracy: 76.55%\n",
      "Validation Loss: 0.4984, Validation Accuracy: 76.64%\n"
     ]
    },
    {
     "name": "stdout",
     "output_type": "stream",
     "text": [
      "Epoch [127/500], Loss: 0.4806, Accuracy: 77.56%\n",
      "Validation Loss: 0.4947, Validation Accuracy: 77.14%\n"
     ]
    },
    {
     "name": "stdout",
     "output_type": "stream",
     "text": [
      "Epoch [128/500], Loss: 0.4808, Accuracy: 77.47%\n",
      "Validation Loss: 0.4817, Validation Accuracy: 77.01%\n"
     ]
    },
    {
     "name": "stdout",
     "output_type": "stream",
     "text": [
      "Epoch [129/500], Loss: 0.4726, Accuracy: 77.50%\n",
      "Validation Loss: 0.5054, Validation Accuracy: 76.83%\n"
     ]
    },
    {
     "name": "stdout",
     "output_type": "stream",
     "text": [
      "Epoch [130/500], Loss: 0.4696, Accuracy: 77.81%\n",
      "Validation Loss: 0.5138, Validation Accuracy: 77.08%\n"
     ]
    },
    {
     "name": "stdout",
     "output_type": "stream",
     "text": [
      "Epoch [131/500], Loss: 0.4740, Accuracy: 78.25%\n",
      "Validation Loss: 0.5310, Validation Accuracy: 75.95%\n"
     ]
    },
    {
     "name": "stdout",
     "output_type": "stream",
     "text": [
      "Epoch [132/500], Loss: 0.4644, Accuracy: 78.84%\n",
      "Validation Loss: 0.4944, Validation Accuracy: 77.01%\n"
     ]
    },
    {
     "name": "stdout",
     "output_type": "stream",
     "text": [
      "Epoch [133/500], Loss: 0.4652, Accuracy: 78.76%\n",
      "Validation Loss: 0.5914, Validation Accuracy: 74.02%\n"
     ]
    },
    {
     "name": "stdout",
     "output_type": "stream",
     "text": [
      "Epoch [134/500], Loss: 0.4637, Accuracy: 79.33%\n",
      "Validation Loss: 0.5111, Validation Accuracy: 76.95%\n"
     ]
    },
    {
     "name": "stdout",
     "output_type": "stream",
     "text": [
      "Epoch [135/500], Loss: 0.4767, Accuracy: 78.33%\n",
      "Validation Loss: 0.4871, Validation Accuracy: 77.95%\n",
      "✅ Best model saved with Validation Accuracy: 77.95%\n"
     ]
    },
    {
     "name": "stdout",
     "output_type": "stream",
     "text": [
      "Epoch [136/500], Loss: 0.4680, Accuracy: 78.29%\n",
      "Validation Loss: 0.4979, Validation Accuracy: 77.14%\n"
     ]
    },
    {
     "name": "stdout",
     "output_type": "stream",
     "text": [
      "Epoch [137/500], Loss: 0.4610, Accuracy: 79.09%\n",
      "Validation Loss: 0.4892, Validation Accuracy: 78.01%\n",
      "✅ Best model saved with Validation Accuracy: 78.01%\n"
     ]
    },
    {
     "name": "stdout",
     "output_type": "stream",
     "text": [
      "Epoch [138/500], Loss: 0.4573, Accuracy: 78.37%\n",
      "Validation Loss: 0.4998, Validation Accuracy: 77.64%\n"
     ]
    },
    {
     "name": "stdout",
     "output_type": "stream",
     "text": [
      "Epoch [139/500], Loss: 0.4517, Accuracy: 79.43%\n",
      "Validation Loss: 0.5308, Validation Accuracy: 76.33%\n"
     ]
    },
    {
     "name": "stdout",
     "output_type": "stream",
     "text": [
      "Epoch [140/500], Loss: 0.4538, Accuracy: 79.48%\n",
      "Validation Loss: 0.4790, Validation Accuracy: 79.76%\n",
      "✅ Best model saved with Validation Accuracy: 79.76%\n"
     ]
    },
    {
     "name": "stdout",
     "output_type": "stream",
     "text": [
      "Epoch [141/500], Loss: 0.4497, Accuracy: 79.45%\n",
      "Validation Loss: 0.5179, Validation Accuracy: 77.89%\n"
     ]
    },
    {
     "name": "stdout",
     "output_type": "stream",
     "text": [
      "Epoch [142/500], Loss: 0.4487, Accuracy: 79.67%\n",
      "Validation Loss: 0.5227, Validation Accuracy: 77.01%\n"
     ]
    },
    {
     "name": "stdout",
     "output_type": "stream",
     "text": [
      "Epoch [143/500], Loss: 0.4468, Accuracy: 79.54%\n",
      "Validation Loss: 0.4788, Validation Accuracy: 78.14%\n"
     ]
    },
    {
     "name": "stdout",
     "output_type": "stream",
     "text": [
      "Epoch [144/500], Loss: 0.4509, Accuracy: 79.92%\n",
      "Validation Loss: 0.4732, Validation Accuracy: 78.70%\n"
     ]
    },
    {
     "name": "stdout",
     "output_type": "stream",
     "text": [
      "Epoch [145/500], Loss: 0.4494, Accuracy: 79.92%\n",
      "Validation Loss: 0.5013, Validation Accuracy: 78.08%\n"
     ]
    },
    {
     "name": "stdout",
     "output_type": "stream",
     "text": [
      "Epoch [146/500], Loss: 0.4425, Accuracy: 80.32%\n",
      "Validation Loss: 0.4982, Validation Accuracy: 77.76%\n"
     ]
    },
    {
     "name": "stdout",
     "output_type": "stream",
     "text": [
      "Epoch [147/500], Loss: 0.4353, Accuracy: 80.47%\n",
      "Validation Loss: 0.4975, Validation Accuracy: 79.95%\n",
      "✅ Best model saved with Validation Accuracy: 79.95%\n"
     ]
    },
    {
     "name": "stdout",
     "output_type": "stream",
     "text": [
      "Epoch [148/500], Loss: 0.4424, Accuracy: 79.81%\n",
      "Validation Loss: 0.4991, Validation Accuracy: 77.33%\n"
     ]
    },
    {
     "name": "stdout",
     "output_type": "stream",
     "text": [
      "Epoch [149/500], Loss: 0.4436, Accuracy: 80.00%\n",
      "Validation Loss: 0.4982, Validation Accuracy: 78.51%\n"
     ]
    },
    {
     "name": "stdout",
     "output_type": "stream",
     "text": [
      "Epoch [150/500], Loss: 0.4332, Accuracy: 80.84%\n",
      "Validation Loss: 0.5277, Validation Accuracy: 76.64%\n"
     ]
    },
    {
     "name": "stdout",
     "output_type": "stream",
     "text": [
      "Epoch [151/500], Loss: 0.4261, Accuracy: 81.06%\n",
      "Validation Loss: 0.4990, Validation Accuracy: 78.83%\n"
     ]
    },
    {
     "name": "stdout",
     "output_type": "stream",
     "text": [
      "Epoch [152/500], Loss: 0.4231, Accuracy: 80.93%\n",
      "Validation Loss: 0.4602, Validation Accuracy: 80.32%\n",
      "✅ Best model saved with Validation Accuracy: 80.32%\n"
     ]
    },
    {
     "name": "stdout",
     "output_type": "stream",
     "text": [
      "Epoch [153/500], Loss: 0.4276, Accuracy: 80.98%\n",
      "Validation Loss: 0.4646, Validation Accuracy: 79.64%\n"
     ]
    },
    {
     "name": "stdout",
     "output_type": "stream",
     "text": [
      "Epoch [154/500], Loss: 0.4374, Accuracy: 80.22%\n",
      "Validation Loss: 0.4588, Validation Accuracy: 79.20%\n"
     ]
    },
    {
     "name": "stdout",
     "output_type": "stream",
     "text": [
      "Epoch [155/500], Loss: 0.4277, Accuracy: 80.64%\n",
      "Validation Loss: 0.4996, Validation Accuracy: 77.58%\n"
     ]
    },
    {
     "name": "stdout",
     "output_type": "stream",
     "text": [
      "Epoch [156/500], Loss: 0.4270, Accuracy: 80.95%\n",
      "Validation Loss: 0.5102, Validation Accuracy: 78.39%\n"
     ]
    },
    {
     "name": "stdout",
     "output_type": "stream",
     "text": [
      "Epoch [157/500], Loss: 0.4179, Accuracy: 81.62%\n",
      "Validation Loss: 0.5274, Validation Accuracy: 78.76%\n"
     ]
    },
    {
     "name": "stdout",
     "output_type": "stream",
     "text": [
      "Epoch [158/500], Loss: 0.4277, Accuracy: 80.89%\n",
      "Validation Loss: 0.4942, Validation Accuracy: 78.58%\n"
     ]
    },
    {
     "name": "stdout",
     "output_type": "stream",
     "text": [
      "Epoch [159/500], Loss: 0.4201, Accuracy: 81.39%\n",
      "Validation Loss: 0.4974, Validation Accuracy: 79.51%\n"
     ]
    },
    {
     "name": "stdout",
     "output_type": "stream",
     "text": [
      "Epoch [160/500], Loss: 0.4190, Accuracy: 80.93%\n",
      "Validation Loss: 0.4684, Validation Accuracy: 79.83%\n"
     ]
    },
    {
     "name": "stdout",
     "output_type": "stream",
     "text": [
      "Epoch [161/500], Loss: 0.4173, Accuracy: 81.53%\n",
      "Validation Loss: 0.4702, Validation Accuracy: 79.14%\n"
     ]
    },
    {
     "name": "stdout",
     "output_type": "stream",
     "text": [
      "Epoch [162/500], Loss: 0.4151, Accuracy: 81.53%\n",
      "Validation Loss: 0.5286, Validation Accuracy: 77.76%\n"
     ]
    },
    {
     "name": "stdout",
     "output_type": "stream",
     "text": [
      "Epoch [163/500], Loss: 0.4128, Accuracy: 81.39%\n",
      "Validation Loss: 0.4919, Validation Accuracy: 79.64%\n"
     ]
    },
    {
     "name": "stdout",
     "output_type": "stream",
     "text": [
      "Epoch [164/500], Loss: 0.4067, Accuracy: 82.00%\n",
      "Validation Loss: 0.4448, Validation Accuracy: 80.76%\n",
      "✅ Best model saved with Validation Accuracy: 80.76%\n"
     ]
    },
    {
     "name": "stdout",
     "output_type": "stream",
     "text": [
      "Epoch [165/500], Loss: 0.4079, Accuracy: 82.10%\n",
      "Validation Loss: 0.5204, Validation Accuracy: 78.01%\n"
     ]
    },
    {
     "name": "stdout",
     "output_type": "stream",
     "text": [
      "Epoch [166/500], Loss: 0.3966, Accuracy: 82.59%\n",
      "Validation Loss: 0.5398, Validation Accuracy: 77.83%\n"
     ]
    },
    {
     "name": "stdout",
     "output_type": "stream",
     "text": [
      "Epoch [167/500], Loss: 0.4072, Accuracy: 81.89%\n",
      "Validation Loss: 0.4615, Validation Accuracy: 80.64%\n"
     ]
    },
    {
     "name": "stdout",
     "output_type": "stream",
     "text": [
      "Epoch [168/500], Loss: 0.3996, Accuracy: 82.25%\n",
      "Validation Loss: 0.4939, Validation Accuracy: 79.51%\n"
     ]
    },
    {
     "name": "stdout",
     "output_type": "stream",
     "text": [
      "Epoch [169/500], Loss: 0.4038, Accuracy: 82.31%\n",
      "Validation Loss: 0.4907, Validation Accuracy: 80.01%\n"
     ]
    },
    {
     "name": "stdout",
     "output_type": "stream",
     "text": [
      "Epoch [170/500], Loss: 0.3976, Accuracy: 82.42%\n",
      "Validation Loss: 0.4564, Validation Accuracy: 80.51%\n"
     ]
    },
    {
     "name": "stdout",
     "output_type": "stream",
     "text": [
      "Epoch [171/500], Loss: 0.4019, Accuracy: 82.57%\n",
      "Validation Loss: 0.4713, Validation Accuracy: 80.64%\n"
     ]
    },
    {
     "name": "stdout",
     "output_type": "stream",
     "text": [
      "Epoch [172/500], Loss: 0.4073, Accuracy: 81.92%\n",
      "Validation Loss: 0.4711, Validation Accuracy: 80.95%\n",
      "✅ Best model saved with Validation Accuracy: 80.95%\n"
     ]
    },
    {
     "name": "stdout",
     "output_type": "stream",
     "text": [
      "Epoch [173/500], Loss: 0.3941, Accuracy: 82.87%\n",
      "Validation Loss: 0.4786, Validation Accuracy: 80.39%\n"
     ]
    },
    {
     "name": "stdout",
     "output_type": "stream",
     "text": [
      "Epoch [174/500], Loss: 0.3998, Accuracy: 82.57%\n",
      "Validation Loss: 0.4603, Validation Accuracy: 81.07%\n",
      "✅ Best model saved with Validation Accuracy: 81.07%\n"
     ]
    },
    {
     "name": "stdout",
     "output_type": "stream",
     "text": [
      "Epoch [175/500], Loss: 0.3849, Accuracy: 83.54%\n",
      "Validation Loss: 0.4671, Validation Accuracy: 81.51%\n",
      "✅ Best model saved with Validation Accuracy: 81.51%\n"
     ]
    },
    {
     "name": "stdout",
     "output_type": "stream",
     "text": [
      "Epoch [176/500], Loss: 0.3911, Accuracy: 82.96%\n",
      "Validation Loss: 0.5181, Validation Accuracy: 80.07%\n"
     ]
    },
    {
     "name": "stdout",
     "output_type": "stream",
     "text": [
      "Epoch [177/500], Loss: 0.3824, Accuracy: 83.35%\n",
      "Validation Loss: 0.5081, Validation Accuracy: 80.14%\n"
     ]
    },
    {
     "name": "stdout",
     "output_type": "stream",
     "text": [
      "Epoch [178/500], Loss: 0.3793, Accuracy: 83.45%\n",
      "Validation Loss: 0.4807, Validation Accuracy: 80.39%\n"
     ]
    },
    {
     "name": "stdout",
     "output_type": "stream",
     "text": [
      "Epoch [179/500], Loss: 0.3867, Accuracy: 83.23%\n",
      "Validation Loss: 0.4887, Validation Accuracy: 80.14%\n"
     ]
    },
    {
     "name": "stdout",
     "output_type": "stream",
     "text": [
      "Epoch [180/500], Loss: 0.3867, Accuracy: 83.26%\n",
      "Validation Loss: 0.4835, Validation Accuracy: 81.39%\n"
     ]
    },
    {
     "name": "stdout",
     "output_type": "stream",
     "text": [
      "Epoch [181/500], Loss: 0.3810, Accuracy: 83.62%\n",
      "Validation Loss: 0.5115, Validation Accuracy: 79.14%\n"
     ]
    },
    {
     "name": "stdout",
     "output_type": "stream",
     "text": [
      "Epoch [182/500], Loss: 0.3767, Accuracy: 84.15%\n",
      "Validation Loss: 0.4763, Validation Accuracy: 80.70%\n"
     ]
    },
    {
     "name": "stdout",
     "output_type": "stream",
     "text": [
      "Epoch [183/500], Loss: 0.3771, Accuracy: 83.49%\n",
      "Validation Loss: 0.4720, Validation Accuracy: 81.64%\n",
      "✅ Best model saved with Validation Accuracy: 81.64%\n"
     ]
    },
    {
     "name": "stdout",
     "output_type": "stream",
     "text": [
      "Epoch [184/500], Loss: 0.3692, Accuracy: 84.29%\n",
      "Validation Loss: 0.5115, Validation Accuracy: 79.20%\n"
     ]
    },
    {
     "name": "stdout",
     "output_type": "stream",
     "text": [
      "Epoch [185/500], Loss: 0.3715, Accuracy: 83.79%\n",
      "Validation Loss: 0.5480, Validation Accuracy: 80.51%\n"
     ]
    },
    {
     "name": "stdout",
     "output_type": "stream",
     "text": [
      "Epoch [186/500], Loss: 0.3701, Accuracy: 84.01%\n",
      "Validation Loss: 0.5321, Validation Accuracy: 79.08%\n"
     ]
    },
    {
     "name": "stdout",
     "output_type": "stream",
     "text": [
      "Epoch [187/500], Loss: 0.3643, Accuracy: 84.53%\n",
      "Validation Loss: 0.4824, Validation Accuracy: 80.76%\n"
     ]
    },
    {
     "name": "stdout",
     "output_type": "stream",
     "text": [
      "Epoch [188/500], Loss: 0.3749, Accuracy: 83.82%\n",
      "Validation Loss: 0.4253, Validation Accuracy: 82.57%\n",
      "✅ Best model saved with Validation Accuracy: 82.57%\n"
     ]
    },
    {
     "name": "stdout",
     "output_type": "stream",
     "text": [
      "Epoch [189/500], Loss: 0.3670, Accuracy: 84.71%\n",
      "Validation Loss: 0.5191, Validation Accuracy: 80.70%\n"
     ]
    },
    {
     "name": "stdout",
     "output_type": "stream",
     "text": [
      "Epoch [190/500], Loss: 0.3689, Accuracy: 83.85%\n",
      "Validation Loss: 0.4604, Validation Accuracy: 81.45%\n"
     ]
    },
    {
     "name": "stdout",
     "output_type": "stream",
     "text": [
      "Epoch [191/500], Loss: 0.3636, Accuracy: 84.20%\n",
      "Validation Loss: 0.4936, Validation Accuracy: 80.64%\n"
     ]
    },
    {
     "name": "stdout",
     "output_type": "stream",
     "text": [
      "Epoch [192/500], Loss: 0.3684, Accuracy: 83.99%\n",
      "Validation Loss: 0.5478, Validation Accuracy: 79.33%\n"
     ]
    },
    {
     "name": "stdout",
     "output_type": "stream",
     "text": [
      "Epoch [193/500], Loss: 0.3652, Accuracy: 84.15%\n",
      "Validation Loss: 0.4940, Validation Accuracy: 80.95%\n"
     ]
    },
    {
     "name": "stdout",
     "output_type": "stream",
     "text": [
      "Epoch [194/500], Loss: 0.3545, Accuracy: 84.48%\n",
      "Validation Loss: 0.4819, Validation Accuracy: 81.20%\n"
     ]
    },
    {
     "name": "stdout",
     "output_type": "stream",
     "text": [
      "Epoch [195/500], Loss: 0.3525, Accuracy: 84.62%\n",
      "Validation Loss: 0.5417, Validation Accuracy: 80.01%\n"
     ]
    },
    {
     "name": "stdout",
     "output_type": "stream",
     "text": [
      "Epoch [196/500], Loss: 0.3513, Accuracy: 85.20%\n",
      "Validation Loss: 0.4300, Validation Accuracy: 81.39%\n"
     ]
    },
    {
     "name": "stdout",
     "output_type": "stream",
     "text": [
      "Epoch [197/500], Loss: 0.3529, Accuracy: 85.15%\n",
      "Validation Loss: 0.4680, Validation Accuracy: 80.82%\n"
     ]
    },
    {
     "name": "stdout",
     "output_type": "stream",
     "text": [
      "Epoch [198/500], Loss: 0.3431, Accuracy: 85.52%\n",
      "Validation Loss: 0.4805, Validation Accuracy: 81.64%\n"
     ]
    },
    {
     "name": "stdout",
     "output_type": "stream",
     "text": [
      "Epoch [199/500], Loss: 0.3462, Accuracy: 85.13%\n",
      "Validation Loss: 0.4960, Validation Accuracy: 80.82%\n"
     ]
    },
    {
     "name": "stdout",
     "output_type": "stream",
     "text": [
      "Epoch [200/500], Loss: 0.3488, Accuracy: 84.73%\n",
      "Validation Loss: 0.4308, Validation Accuracy: 82.39%\n"
     ]
    },
    {
     "name": "stdout",
     "output_type": "stream",
     "text": [
      "Epoch [201/500], Loss: 0.3395, Accuracy: 85.88%\n",
      "Validation Loss: 0.4736, Validation Accuracy: 82.39%\n"
     ]
    },
    {
     "name": "stdout",
     "output_type": "stream",
     "text": [
      "Epoch [202/500], Loss: 0.3507, Accuracy: 85.06%\n",
      "Validation Loss: 0.4990, Validation Accuracy: 80.95%\n"
     ]
    },
    {
     "name": "stdout",
     "output_type": "stream",
     "text": [
      "Epoch [203/500], Loss: 0.3335, Accuracy: 85.37%\n",
      "Validation Loss: 0.4716, Validation Accuracy: 81.26%\n"
     ]
    },
    {
     "name": "stdout",
     "output_type": "stream",
     "text": [
      "Epoch [204/500], Loss: 0.3396, Accuracy: 85.56%\n",
      "Validation Loss: 0.4362, Validation Accuracy: 81.57%\n"
     ]
    },
    {
     "name": "stdout",
     "output_type": "stream",
     "text": [
      "Epoch [205/500], Loss: 0.3376, Accuracy: 85.49%\n",
      "Validation Loss: 0.4866, Validation Accuracy: 80.95%\n"
     ]
    },
    {
     "name": "stdout",
     "output_type": "stream",
     "text": [
      "Epoch [206/500], Loss: 0.3380, Accuracy: 86.48%\n",
      "Validation Loss: 0.4807, Validation Accuracy: 81.32%\n"
     ]
    },
    {
     "name": "stdout",
     "output_type": "stream",
     "text": [
      "Epoch [207/500], Loss: 0.3300, Accuracy: 86.13%\n",
      "Validation Loss: 0.4737, Validation Accuracy: 82.01%\n"
     ]
    },
    {
     "name": "stdout",
     "output_type": "stream",
     "text": [
      "Epoch [208/500], Loss: 0.3353, Accuracy: 85.48%\n",
      "Validation Loss: 0.4657, Validation Accuracy: 81.95%\n"
     ]
    },
    {
     "name": "stdout",
     "output_type": "stream",
     "text": [
      "Epoch [209/500], Loss: 0.3296, Accuracy: 85.74%\n",
      "Validation Loss: 0.4654, Validation Accuracy: 81.26%\n"
     ]
    },
    {
     "name": "stdout",
     "output_type": "stream",
     "text": [
      "Epoch [210/500], Loss: 0.3228, Accuracy: 86.48%\n",
      "Validation Loss: 0.5937, Validation Accuracy: 81.32%\n"
     ]
    },
    {
     "name": "stdout",
     "output_type": "stream",
     "text": [
      "Epoch [211/500], Loss: 0.3271, Accuracy: 86.20%\n",
      "Validation Loss: 0.5556, Validation Accuracy: 81.07%\n"
     ]
    },
    {
     "name": "stdout",
     "output_type": "stream",
     "text": [
      "Epoch [212/500], Loss: 0.3228, Accuracy: 86.21%\n",
      "Validation Loss: 0.4548, Validation Accuracy: 82.82%\n",
      "✅ Best model saved with Validation Accuracy: 82.82%\n"
     ]
    },
    {
     "name": "stdout",
     "output_type": "stream",
     "text": [
      "Epoch [213/500], Loss: 0.3336, Accuracy: 85.85%\n",
      "Validation Loss: 0.4154, Validation Accuracy: 82.95%\n",
      "✅ Best model saved with Validation Accuracy: 82.95%\n"
     ]
    },
    {
     "name": "stdout",
     "output_type": "stream",
     "text": [
      "Epoch [214/500], Loss: 0.3205, Accuracy: 86.52%\n",
      "Validation Loss: 0.5182, Validation Accuracy: 79.70%\n"
     ]
    },
    {
     "name": "stdout",
     "output_type": "stream",
     "text": [
      "Epoch [215/500], Loss: 0.3207, Accuracy: 86.40%\n",
      "Validation Loss: 0.4255, Validation Accuracy: 82.82%\n"
     ]
    },
    {
     "name": "stdout",
     "output_type": "stream",
     "text": [
      "Epoch [216/500], Loss: 0.3177, Accuracy: 86.82%\n",
      "Validation Loss: 0.4720, Validation Accuracy: 81.64%\n"
     ]
    },
    {
     "name": "stdout",
     "output_type": "stream",
     "text": [
      "Epoch [217/500], Loss: 0.3272, Accuracy: 86.21%\n",
      "Validation Loss: 0.4584, Validation Accuracy: 82.32%\n"
     ]
    },
    {
     "name": "stdout",
     "output_type": "stream",
     "text": [
      "Epoch [218/500], Loss: 0.3164, Accuracy: 86.48%\n",
      "Validation Loss: 0.4822, Validation Accuracy: 82.32%\n"
     ]
    },
    {
     "name": "stdout",
     "output_type": "stream",
     "text": [
      "Epoch [219/500], Loss: 0.3232, Accuracy: 85.82%\n",
      "Validation Loss: 0.5355, Validation Accuracy: 81.39%\n"
     ]
    },
    {
     "name": "stdout",
     "output_type": "stream",
     "text": [
      "Epoch [220/500], Loss: 0.3013, Accuracy: 87.71%\n",
      "Validation Loss: 0.4990, Validation Accuracy: 82.70%\n"
     ]
    },
    {
     "name": "stdout",
     "output_type": "stream",
     "text": [
      "Epoch [221/500], Loss: 0.3223, Accuracy: 86.56%\n",
      "Validation Loss: 0.5474, Validation Accuracy: 81.45%\n"
     ]
    },
    {
     "name": "stdout",
     "output_type": "stream",
     "text": [
      "Epoch [222/500], Loss: 0.3041, Accuracy: 87.41%\n",
      "Validation Loss: 0.5084, Validation Accuracy: 80.57%\n"
     ]
    },
    {
     "name": "stdout",
     "output_type": "stream",
     "text": [
      "Epoch [223/500], Loss: 0.3116, Accuracy: 86.84%\n",
      "Validation Loss: 0.4731, Validation Accuracy: 82.01%\n"
     ]
    },
    {
     "name": "stdout",
     "output_type": "stream",
     "text": [
      "Epoch [224/500], Loss: 0.3095, Accuracy: 87.29%\n",
      "Validation Loss: 0.5023, Validation Accuracy: 81.57%\n"
     ]
    },
    {
     "name": "stdout",
     "output_type": "stream",
     "text": [
      "Epoch [225/500], Loss: 0.3131, Accuracy: 86.85%\n",
      "Validation Loss: 0.4313, Validation Accuracy: 83.45%\n",
      "✅ Best model saved with Validation Accuracy: 83.45%\n"
     ]
    },
    {
     "name": "stdout",
     "output_type": "stream",
     "text": [
      "Epoch [226/500], Loss: 0.3043, Accuracy: 87.49%\n",
      "Validation Loss: 0.5242, Validation Accuracy: 81.32%\n"
     ]
    },
    {
     "name": "stdout",
     "output_type": "stream",
     "text": [
      "Epoch [227/500], Loss: 0.3049, Accuracy: 86.91%\n",
      "Validation Loss: 0.4823, Validation Accuracy: 83.07%\n"
     ]
    },
    {
     "name": "stdout",
     "output_type": "stream",
     "text": [
      "Epoch [228/500], Loss: 0.3027, Accuracy: 87.55%\n",
      "Validation Loss: 0.4904, Validation Accuracy: 82.82%\n"
     ]
    },
    {
     "name": "stdout",
     "output_type": "stream",
     "text": [
      "Epoch [229/500], Loss: 0.3036, Accuracy: 87.40%\n",
      "Validation Loss: 0.5518, Validation Accuracy: 80.39%\n"
     ]
    },
    {
     "name": "stdout",
     "output_type": "stream",
     "text": [
      "Epoch [230/500], Loss: 0.2926, Accuracy: 87.74%\n",
      "Validation Loss: 0.6026, Validation Accuracy: 80.20%\n"
     ]
    },
    {
     "name": "stdout",
     "output_type": "stream",
     "text": [
      "Epoch [231/500], Loss: 0.2903, Accuracy: 88.07%\n",
      "Validation Loss: 0.5510, Validation Accuracy: 80.76%\n"
     ]
    },
    {
     "name": "stdout",
     "output_type": "stream",
     "text": [
      "Epoch [232/500], Loss: 0.2881, Accuracy: 88.40%\n",
      "Validation Loss: 0.4574, Validation Accuracy: 82.70%\n"
     ]
    },
    {
     "name": "stdout",
     "output_type": "stream",
     "text": [
      "Epoch [233/500], Loss: 0.3001, Accuracy: 87.49%\n",
      "Validation Loss: 0.6040, Validation Accuracy: 78.95%\n"
     ]
    },
    {
     "name": "stdout",
     "output_type": "stream",
     "text": [
      "Epoch [234/500], Loss: 0.2938, Accuracy: 87.77%\n",
      "Validation Loss: 0.4857, Validation Accuracy: 82.57%\n"
     ]
    },
    {
     "name": "stdout",
     "output_type": "stream",
     "text": [
      "Epoch [235/500], Loss: 0.2878, Accuracy: 87.93%\n",
      "Validation Loss: 0.5981, Validation Accuracy: 79.33%\n"
     ]
    },
    {
     "name": "stdout",
     "output_type": "stream",
     "text": [
      "Epoch [236/500], Loss: 0.2849, Accuracy: 88.19%\n",
      "Validation Loss: 0.4573, Validation Accuracy: 82.57%\n"
     ]
    },
    {
     "name": "stdout",
     "output_type": "stream",
     "text": [
      "Epoch [237/500], Loss: 0.2768, Accuracy: 88.26%\n",
      "Validation Loss: 0.4592, Validation Accuracy: 83.20%\n"
     ]
    },
    {
     "name": "stdout",
     "output_type": "stream",
     "text": [
      "Epoch [238/500], Loss: 0.2823, Accuracy: 88.55%\n",
      "Validation Loss: 0.5014, Validation Accuracy: 81.26%\n"
     ]
    },
    {
     "name": "stdout",
     "output_type": "stream",
     "text": [
      "Epoch [239/500], Loss: 0.2841, Accuracy: 88.48%\n",
      "Validation Loss: 0.5512, Validation Accuracy: 81.32%\n"
     ]
    },
    {
     "name": "stdout",
     "output_type": "stream",
     "text": [
      "Epoch [240/500], Loss: 0.2727, Accuracy: 89.10%\n",
      "Validation Loss: 0.4524, Validation Accuracy: 82.57%\n"
     ]
    },
    {
     "name": "stdout",
     "output_type": "stream",
     "text": [
      "Epoch [241/500], Loss: 0.2758, Accuracy: 88.90%\n",
      "Validation Loss: 0.4376, Validation Accuracy: 83.51%\n",
      "✅ Best model saved with Validation Accuracy: 83.51%\n"
     ]
    },
    {
     "name": "stdout",
     "output_type": "stream",
     "text": [
      "Epoch [242/500], Loss: 0.2731, Accuracy: 88.74%\n",
      "Validation Loss: 0.4753, Validation Accuracy: 83.39%\n"
     ]
    },
    {
     "name": "stdout",
     "output_type": "stream",
     "text": [
      "Epoch [243/500], Loss: 0.2692, Accuracy: 88.59%\n",
      "Validation Loss: 0.5076, Validation Accuracy: 81.51%\n"
     ]
    },
    {
     "name": "stdout",
     "output_type": "stream",
     "text": [
      "Epoch [244/500], Loss: 0.2666, Accuracy: 89.02%\n",
      "Validation Loss: 0.5708, Validation Accuracy: 81.51%\n"
     ]
    },
    {
     "name": "stdout",
     "output_type": "stream",
     "text": [
      "Epoch [245/500], Loss: 0.2703, Accuracy: 88.85%\n",
      "Validation Loss: 0.4940, Validation Accuracy: 82.51%\n"
     ]
    },
    {
     "name": "stdout",
     "output_type": "stream",
     "text": [
      "Epoch [246/500], Loss: 0.2714, Accuracy: 88.68%\n",
      "Validation Loss: 0.5496, Validation Accuracy: 81.32%\n"
     ]
    },
    {
     "name": "stdout",
     "output_type": "stream",
     "text": [
      "Epoch [247/500], Loss: 0.2654, Accuracy: 89.24%\n",
      "Validation Loss: 0.4639, Validation Accuracy: 82.51%\n"
     ]
    },
    {
     "name": "stdout",
     "output_type": "stream",
     "text": [
      "Epoch [248/500], Loss: 0.2628, Accuracy: 89.15%\n",
      "Validation Loss: 0.4604, Validation Accuracy: 82.70%\n"
     ]
    },
    {
     "name": "stdout",
     "output_type": "stream",
     "text": [
      "Epoch [249/500], Loss: 0.2552, Accuracy: 89.57%\n",
      "Validation Loss: 0.4728, Validation Accuracy: 84.20%\n",
      "✅ Best model saved with Validation Accuracy: 84.20%\n"
     ]
    },
    {
     "name": "stdout",
     "output_type": "stream",
     "text": [
      "Epoch [250/500], Loss: 0.2550, Accuracy: 89.68%\n",
      "Validation Loss: 0.5580, Validation Accuracy: 82.39%\n"
     ]
    },
    {
     "name": "stdout",
     "output_type": "stream",
     "text": [
      "Epoch [251/500], Loss: 0.2526, Accuracy: 89.77%\n",
      "Validation Loss: 0.4718, Validation Accuracy: 83.01%\n"
     ]
    },
    {
     "name": "stdout",
     "output_type": "stream",
     "text": [
      "Epoch [252/500], Loss: 0.2506, Accuracy: 89.94%\n",
      "Validation Loss: 0.5148, Validation Accuracy: 82.32%\n"
     ]
    },
    {
     "name": "stdout",
     "output_type": "stream",
     "text": [
      "Epoch [253/500], Loss: 0.2516, Accuracy: 89.71%\n",
      "Validation Loss: 0.5739, Validation Accuracy: 81.95%\n"
     ]
    },
    {
     "name": "stdout",
     "output_type": "stream",
     "text": [
      "Epoch [254/500], Loss: 0.2617, Accuracy: 89.93%\n",
      "Validation Loss: 0.5461, Validation Accuracy: 81.51%\n"
     ]
    },
    {
     "name": "stdout",
     "output_type": "stream",
     "text": [
      "Epoch [255/500], Loss: 0.2627, Accuracy: 89.21%\n",
      "Validation Loss: 0.5238, Validation Accuracy: 81.39%\n"
     ]
    },
    {
     "name": "stdout",
     "output_type": "stream",
     "text": [
      "Epoch [256/500], Loss: 0.2615, Accuracy: 89.21%\n",
      "Validation Loss: 0.4991, Validation Accuracy: 82.57%\n"
     ]
    },
    {
     "name": "stdout",
     "output_type": "stream",
     "text": [
      "Epoch [257/500], Loss: 0.2474, Accuracy: 89.74%\n",
      "Validation Loss: 0.5160, Validation Accuracy: 82.07%\n"
     ]
    },
    {
     "name": "stdout",
     "output_type": "stream",
     "text": [
      "Epoch [258/500], Loss: 0.2535, Accuracy: 89.76%\n",
      "Validation Loss: 0.4461, Validation Accuracy: 83.45%\n"
     ]
    },
    {
     "name": "stdout",
     "output_type": "stream",
     "text": [
      "Epoch [259/500], Loss: 0.2380, Accuracy: 90.13%\n",
      "Validation Loss: 0.6545, Validation Accuracy: 80.20%\n"
     ]
    },
    {
     "name": "stdout",
     "output_type": "stream",
     "text": [
      "Epoch [260/500], Loss: 0.2491, Accuracy: 89.60%\n",
      "Validation Loss: 0.4719, Validation Accuracy: 82.32%\n"
     ]
    },
    {
     "name": "stdout",
     "output_type": "stream",
     "text": [
      "Epoch [261/500], Loss: 0.2457, Accuracy: 90.15%\n",
      "Validation Loss: 0.5780, Validation Accuracy: 82.20%\n"
     ]
    },
    {
     "name": "stdout",
     "output_type": "stream",
     "text": [
      "Epoch [262/500], Loss: 0.2374, Accuracy: 90.30%\n",
      "Validation Loss: 0.5769, Validation Accuracy: 82.14%\n"
     ]
    },
    {
     "name": "stdout",
     "output_type": "stream",
     "text": [
      "Epoch [263/500], Loss: 0.2450, Accuracy: 90.01%\n",
      "Validation Loss: 0.4793, Validation Accuracy: 82.64%\n"
     ]
    },
    {
     "name": "stdout",
     "output_type": "stream",
     "text": [
      "Epoch [264/500], Loss: 0.2397, Accuracy: 90.55%\n",
      "Validation Loss: 0.4918, Validation Accuracy: 82.82%\n"
     ]
    },
    {
     "name": "stdout",
     "output_type": "stream",
     "text": [
      "Epoch [265/500], Loss: 0.2388, Accuracy: 89.90%\n",
      "Validation Loss: 0.4764, Validation Accuracy: 83.07%\n"
     ]
    },
    {
     "name": "stdout",
     "output_type": "stream",
     "text": [
      "Epoch [266/500], Loss: 0.2267, Accuracy: 90.91%\n",
      "Validation Loss: 0.5307, Validation Accuracy: 83.20%\n"
     ]
    },
    {
     "name": "stdout",
     "output_type": "stream",
     "text": [
      "Epoch [267/500], Loss: 0.2376, Accuracy: 90.27%\n",
      "Validation Loss: 0.4846, Validation Accuracy: 83.70%\n"
     ]
    },
    {
     "name": "stdout",
     "output_type": "stream",
     "text": [
      "Epoch [268/500], Loss: 0.2353, Accuracy: 90.71%\n",
      "Validation Loss: 0.4665, Validation Accuracy: 83.51%\n"
     ]
    },
    {
     "name": "stdout",
     "output_type": "stream",
     "text": [
      "Epoch [269/500], Loss: 0.2304, Accuracy: 90.82%\n",
      "Validation Loss: 0.6287, Validation Accuracy: 82.45%\n"
     ]
    },
    {
     "name": "stdout",
     "output_type": "stream",
     "text": [
      "Epoch [270/500], Loss: 0.2188, Accuracy: 91.46%\n",
      "Validation Loss: 0.4992, Validation Accuracy: 83.39%\n"
     ]
    },
    {
     "name": "stdout",
     "output_type": "stream",
     "text": [
      "Epoch [271/500], Loss: 0.2175, Accuracy: 91.43%\n",
      "Validation Loss: 0.4419, Validation Accuracy: 84.07%\n"
     ]
    },
    {
     "name": "stdout",
     "output_type": "stream",
     "text": [
      "Epoch [272/500], Loss: 0.2236, Accuracy: 90.99%\n",
      "Validation Loss: 0.5436, Validation Accuracy: 82.32%\n"
     ]
    },
    {
     "name": "stdout",
     "output_type": "stream",
     "text": [
      "Epoch [273/500], Loss: 0.2129, Accuracy: 91.79%\n",
      "Validation Loss: 0.5932, Validation Accuracy: 81.01%\n"
     ]
    },
    {
     "name": "stdout",
     "output_type": "stream",
     "text": [
      "Epoch [274/500], Loss: 0.2206, Accuracy: 90.82%\n",
      "Validation Loss: 0.4640, Validation Accuracy: 84.38%\n",
      "✅ Best model saved with Validation Accuracy: 84.38%\n"
     ]
    },
    {
     "name": "stdout",
     "output_type": "stream",
     "text": [
      "Epoch [275/500], Loss: 0.2243, Accuracy: 90.77%\n",
      "Validation Loss: 0.5025, Validation Accuracy: 83.51%\n"
     ]
    },
    {
     "name": "stdout",
     "output_type": "stream",
     "text": [
      "Epoch [276/500], Loss: 0.2261, Accuracy: 90.96%\n",
      "Validation Loss: 0.5071, Validation Accuracy: 83.26%\n"
     ]
    },
    {
     "name": "stdout",
     "output_type": "stream",
     "text": [
      "Epoch [277/500], Loss: 0.2068, Accuracy: 91.88%\n",
      "Validation Loss: 0.5847, Validation Accuracy: 83.26%\n"
     ]
    },
    {
     "name": "stdout",
     "output_type": "stream",
     "text": [
      "Epoch [278/500], Loss: 0.2124, Accuracy: 91.35%\n",
      "Validation Loss: 0.5318, Validation Accuracy: 82.20%\n"
     ]
    },
    {
     "name": "stdout",
     "output_type": "stream",
     "text": [
      "Epoch [279/500], Loss: 0.2130, Accuracy: 91.38%\n",
      "Validation Loss: 0.5415, Validation Accuracy: 83.07%\n"
     ]
    },
    {
     "name": "stdout",
     "output_type": "stream",
     "text": [
      "Epoch [280/500], Loss: 0.2195, Accuracy: 90.97%\n",
      "Validation Loss: 0.5307, Validation Accuracy: 83.64%\n"
     ]
    },
    {
     "name": "stdout",
     "output_type": "stream",
     "text": [
      "Epoch [281/500], Loss: 0.2224, Accuracy: 90.97%\n",
      "Validation Loss: 0.7059, Validation Accuracy: 80.70%\n"
     ]
    },
    {
     "name": "stdout",
     "output_type": "stream",
     "text": [
      "Epoch [282/500], Loss: 0.2074, Accuracy: 91.85%\n",
      "Validation Loss: 0.6056, Validation Accuracy: 82.57%\n"
     ]
    },
    {
     "name": "stdout",
     "output_type": "stream",
     "text": [
      "Epoch [283/500], Loss: 0.2180, Accuracy: 91.30%\n",
      "Validation Loss: 0.5646, Validation Accuracy: 82.95%\n"
     ]
    },
    {
     "name": "stdout",
     "output_type": "stream",
     "text": [
      "Epoch [284/500], Loss: 0.2048, Accuracy: 91.72%\n",
      "Validation Loss: 0.5708, Validation Accuracy: 82.95%\n"
     ]
    },
    {
     "name": "stdout",
     "output_type": "stream",
     "text": [
      "Epoch [285/500], Loss: 0.2125, Accuracy: 91.60%\n",
      "Validation Loss: 0.4801, Validation Accuracy: 84.57%\n",
      "✅ Best model saved with Validation Accuracy: 84.57%\n"
     ]
    },
    {
     "name": "stdout",
     "output_type": "stream",
     "text": [
      "Epoch [286/500], Loss: 0.1987, Accuracy: 91.80%\n",
      "Validation Loss: 0.6823, Validation Accuracy: 80.45%\n"
     ]
    },
    {
     "name": "stdout",
     "output_type": "stream",
     "text": [
      "Epoch [287/500], Loss: 0.1984, Accuracy: 92.29%\n",
      "Validation Loss: 0.6299, Validation Accuracy: 81.57%\n"
     ]
    },
    {
     "name": "stdout",
     "output_type": "stream",
     "text": [
      "Epoch [288/500], Loss: 0.1962, Accuracy: 92.15%\n",
      "Validation Loss: 0.5652, Validation Accuracy: 82.20%\n"
     ]
    },
    {
     "name": "stdout",
     "output_type": "stream",
     "text": [
      "Epoch [289/500], Loss: 0.1937, Accuracy: 92.22%\n",
      "Validation Loss: 0.6690, Validation Accuracy: 81.14%\n"
     ]
    },
    {
     "name": "stdout",
     "output_type": "stream",
     "text": [
      "Epoch [290/500], Loss: 0.1936, Accuracy: 92.46%\n",
      "Validation Loss: 0.5203, Validation Accuracy: 83.70%\n"
     ]
    },
    {
     "name": "stdout",
     "output_type": "stream",
     "text": [
      "Epoch [291/500], Loss: 0.1956, Accuracy: 92.05%\n",
      "Validation Loss: 0.4949, Validation Accuracy: 83.70%\n"
     ]
    },
    {
     "name": "stdout",
     "output_type": "stream",
     "text": [
      "Epoch [292/500], Loss: 0.1968, Accuracy: 92.40%\n",
      "Validation Loss: 0.5542, Validation Accuracy: 81.82%\n"
     ]
    },
    {
     "name": "stdout",
     "output_type": "stream",
     "text": [
      "Epoch [293/500], Loss: 0.1937, Accuracy: 92.57%\n",
      "Validation Loss: 0.5797, Validation Accuracy: 82.51%\n"
     ]
    },
    {
     "name": "stdout",
     "output_type": "stream",
     "text": [
      "Epoch [294/500], Loss: 0.2039, Accuracy: 91.69%\n",
      "Validation Loss: 0.5343, Validation Accuracy: 83.70%\n"
     ]
    },
    {
     "name": "stdout",
     "output_type": "stream",
     "text": [
      "Epoch [295/500], Loss: 0.1971, Accuracy: 92.00%\n",
      "Validation Loss: 0.5692, Validation Accuracy: 81.64%\n"
     ]
    },
    {
     "name": "stdout",
     "output_type": "stream",
     "text": [
      "Epoch [296/500], Loss: 0.1972, Accuracy: 91.97%\n",
      "Validation Loss: 0.6309, Validation Accuracy: 82.32%\n"
     ]
    },
    {
     "name": "stdout",
     "output_type": "stream",
     "text": [
      "Epoch [297/500], Loss: 0.1969, Accuracy: 91.76%\n",
      "Validation Loss: 0.5590, Validation Accuracy: 81.64%\n"
     ]
    },
    {
     "name": "stdout",
     "output_type": "stream",
     "text": [
      "Epoch [298/500], Loss: 0.1887, Accuracy: 92.65%\n",
      "Validation Loss: 0.5155, Validation Accuracy: 83.39%\n"
     ]
    },
    {
     "name": "stdout",
     "output_type": "stream",
     "text": [
      "Epoch [299/500], Loss: 0.1820, Accuracy: 93.07%\n",
      "Validation Loss: 0.6293, Validation Accuracy: 82.70%\n"
     ]
    },
    {
     "name": "stdout",
     "output_type": "stream",
     "text": [
      "Epoch [300/500], Loss: 0.1853, Accuracy: 92.44%\n",
      "Validation Loss: 0.5056, Validation Accuracy: 84.32%\n"
     ]
    },
    {
     "name": "stdout",
     "output_type": "stream",
     "text": [
      "Epoch [301/500], Loss: 0.1863, Accuracy: 92.68%\n",
      "Validation Loss: 0.5857, Validation Accuracy: 83.51%\n"
     ]
    },
    {
     "name": "stdout",
     "output_type": "stream",
     "text": [
      "Epoch [302/500], Loss: 0.1900, Accuracy: 92.58%\n",
      "Validation Loss: 0.5726, Validation Accuracy: 82.20%\n"
     ]
    },
    {
     "name": "stdout",
     "output_type": "stream",
     "text": [
      "Epoch [303/500], Loss: 0.1862, Accuracy: 92.54%\n",
      "Validation Loss: 0.5221, Validation Accuracy: 82.51%\n"
     ]
    },
    {
     "name": "stdout",
     "output_type": "stream",
     "text": [
      "Epoch [304/500], Loss: 0.1706, Accuracy: 93.60%\n",
      "Validation Loss: 0.6156, Validation Accuracy: 81.70%\n"
     ]
    },
    {
     "name": "stdout",
     "output_type": "stream",
     "text": [
      "Epoch [305/500], Loss: 0.1731, Accuracy: 93.14%\n",
      "Validation Loss: 0.4820, Validation Accuracy: 83.39%\n"
     ]
    },
    {
     "name": "stdout",
     "output_type": "stream",
     "text": [
      "Epoch [306/500], Loss: 0.1869, Accuracy: 92.61%\n",
      "Validation Loss: 0.6071, Validation Accuracy: 81.89%\n"
     ]
    },
    {
     "name": "stdout",
     "output_type": "stream",
     "text": [
      "Epoch [307/500], Loss: 0.1806, Accuracy: 93.04%\n",
      "Validation Loss: 0.5183, Validation Accuracy: 83.39%\n"
     ]
    },
    {
     "name": "stdout",
     "output_type": "stream",
     "text": [
      "Epoch [308/500], Loss: 0.1763, Accuracy: 93.05%\n",
      "Validation Loss: 0.5390, Validation Accuracy: 82.14%\n"
     ]
    },
    {
     "name": "stdout",
     "output_type": "stream",
     "text": [
      "Epoch [309/500], Loss: 0.1756, Accuracy: 93.14%\n",
      "Validation Loss: 0.6053, Validation Accuracy: 82.01%\n"
     ]
    },
    {
     "name": "stdout",
     "output_type": "stream",
     "text": [
      "Epoch [310/500], Loss: 0.1705, Accuracy: 93.47%\n",
      "Validation Loss: 0.4981, Validation Accuracy: 84.70%\n",
      "✅ Best model saved with Validation Accuracy: 84.70%\n"
     ]
    },
    {
     "name": "stdout",
     "output_type": "stream",
     "text": [
      "Epoch [311/500], Loss: 0.1813, Accuracy: 92.86%\n",
      "Validation Loss: 0.5996, Validation Accuracy: 82.64%\n"
     ]
    },
    {
     "name": "stdout",
     "output_type": "stream",
     "text": [
      "Epoch [312/500], Loss: 0.1576, Accuracy: 93.69%\n",
      "Validation Loss: 0.5101, Validation Accuracy: 84.01%\n"
     ]
    },
    {
     "name": "stdout",
     "output_type": "stream",
     "text": [
      "Epoch [313/500], Loss: 0.1662, Accuracy: 93.74%\n",
      "Validation Loss: 0.6528, Validation Accuracy: 80.82%\n"
     ]
    },
    {
     "name": "stdout",
     "output_type": "stream",
     "text": [
      "Epoch [314/500], Loss: 0.1730, Accuracy: 93.25%\n",
      "Validation Loss: 0.4925, Validation Accuracy: 85.38%\n",
      "✅ Best model saved with Validation Accuracy: 85.38%\n"
     ]
    },
    {
     "name": "stdout",
     "output_type": "stream",
     "text": [
      "Epoch [315/500], Loss: 0.1800, Accuracy: 92.97%\n",
      "Validation Loss: 0.5817, Validation Accuracy: 83.32%\n"
     ]
    },
    {
     "name": "stdout",
     "output_type": "stream",
     "text": [
      "Epoch [316/500], Loss: 0.1702, Accuracy: 93.22%\n",
      "Validation Loss: 0.5551, Validation Accuracy: 83.20%\n"
     ]
    },
    {
     "name": "stdout",
     "output_type": "stream",
     "text": [
      "Epoch [317/500], Loss: 0.1642, Accuracy: 93.72%\n",
      "Validation Loss: 0.5338, Validation Accuracy: 83.32%\n"
     ]
    },
    {
     "name": "stdout",
     "output_type": "stream",
     "text": [
      "Epoch [318/500], Loss: 0.1560, Accuracy: 93.85%\n",
      "Validation Loss: 0.5247, Validation Accuracy: 84.26%\n"
     ]
    },
    {
     "name": "stdout",
     "output_type": "stream",
     "text": [
      "Epoch [319/500], Loss: 0.1529, Accuracy: 94.24%\n",
      "Validation Loss: 0.5079, Validation Accuracy: 84.70%\n"
     ]
    },
    {
     "name": "stdout",
     "output_type": "stream",
     "text": [
      "Epoch [320/500], Loss: 0.1652, Accuracy: 93.29%\n",
      "Validation Loss: 0.6845, Validation Accuracy: 81.26%\n"
     ]
    },
    {
     "name": "stdout",
     "output_type": "stream",
     "text": [
      "Epoch [321/500], Loss: 0.1609, Accuracy: 94.03%\n",
      "Validation Loss: 0.6130, Validation Accuracy: 82.32%\n"
     ]
    },
    {
     "name": "stdout",
     "output_type": "stream",
     "text": [
      "Epoch [322/500], Loss: 0.1723, Accuracy: 93.66%\n",
      "Validation Loss: 0.4716, Validation Accuracy: 83.57%\n"
     ]
    },
    {
     "name": "stdout",
     "output_type": "stream",
     "text": [
      "Epoch [323/500], Loss: 0.1540, Accuracy: 94.16%\n",
      "Validation Loss: 0.5841, Validation Accuracy: 83.82%\n"
     ]
    },
    {
     "name": "stdout",
     "output_type": "stream",
     "text": [
      "Epoch [324/500], Loss: 0.1463, Accuracy: 94.16%\n",
      "Validation Loss: 0.5199, Validation Accuracy: 84.32%\n"
     ]
    },
    {
     "name": "stdout",
     "output_type": "stream",
     "text": [
      "Epoch [325/500], Loss: 0.1569, Accuracy: 94.13%\n",
      "Validation Loss: 0.6113, Validation Accuracy: 83.57%\n"
     ]
    },
    {
     "name": "stdout",
     "output_type": "stream",
     "text": [
      "Epoch [326/500], Loss: 0.1657, Accuracy: 93.54%\n",
      "Validation Loss: 0.5938, Validation Accuracy: 84.45%\n"
     ]
    },
    {
     "name": "stdout",
     "output_type": "stream",
     "text": [
      "Epoch [327/500], Loss: 0.1528, Accuracy: 94.03%\n",
      "Validation Loss: 0.5186, Validation Accuracy: 84.01%\n"
     ]
    },
    {
     "name": "stdout",
     "output_type": "stream",
     "text": [
      "Epoch [328/500], Loss: 0.1607, Accuracy: 93.66%\n",
      "Validation Loss: 0.4670, Validation Accuracy: 84.26%\n"
     ]
    },
    {
     "name": "stdout",
     "output_type": "stream",
     "text": [
      "Epoch [329/500], Loss: 0.1628, Accuracy: 93.72%\n",
      "Validation Loss: 0.4929, Validation Accuracy: 84.07%\n"
     ]
    },
    {
     "name": "stdout",
     "output_type": "stream",
     "text": [
      "Epoch [330/500], Loss: 0.1519, Accuracy: 94.02%\n",
      "Validation Loss: 0.7514, Validation Accuracy: 81.14%\n"
     ]
    },
    {
     "name": "stdout",
     "output_type": "stream",
     "text": [
      "Epoch [331/500], Loss: 0.1567, Accuracy: 93.69%\n",
      "Validation Loss: 0.5393, Validation Accuracy: 84.01%\n"
     ]
    },
    {
     "name": "stdout",
     "output_type": "stream",
     "text": [
      "Epoch [332/500], Loss: 0.1530, Accuracy: 94.03%\n",
      "Validation Loss: 0.4956, Validation Accuracy: 83.89%\n"
     ]
    },
    {
     "name": "stdout",
     "output_type": "stream",
     "text": [
      "Epoch [333/500], Loss: 0.1440, Accuracy: 94.66%\n",
      "Validation Loss: 0.6076, Validation Accuracy: 83.95%\n"
     ]
    },
    {
     "name": "stdout",
     "output_type": "stream",
     "text": [
      "Epoch [334/500], Loss: 0.1497, Accuracy: 94.19%\n",
      "Validation Loss: 0.5051, Validation Accuracy: 84.45%\n"
     ]
    },
    {
     "name": "stdout",
     "output_type": "stream",
     "text": [
      "Epoch [335/500], Loss: 0.1393, Accuracy: 94.89%\n",
      "Validation Loss: 0.5270, Validation Accuracy: 84.20%\n"
     ]
    },
    {
     "name": "stdout",
     "output_type": "stream",
     "text": [
      "Epoch [336/500], Loss: 0.1435, Accuracy: 94.57%\n",
      "Validation Loss: 0.6820, Validation Accuracy: 82.14%\n"
     ]
    },
    {
     "name": "stdout",
     "output_type": "stream",
     "text": [
      "Epoch [337/500], Loss: 0.1372, Accuracy: 94.94%\n",
      "Validation Loss: 0.7582, Validation Accuracy: 81.57%\n"
     ]
    },
    {
     "name": "stdout",
     "output_type": "stream",
     "text": [
      "Epoch [338/500], Loss: 0.1532, Accuracy: 94.02%\n",
      "Validation Loss: 0.6719, Validation Accuracy: 81.01%\n"
     ]
    },
    {
     "name": "stdout",
     "output_type": "stream",
     "text": [
      "Epoch [339/500], Loss: 0.1369, Accuracy: 94.80%\n",
      "Validation Loss: 0.5820, Validation Accuracy: 84.20%\n"
     ]
    },
    {
     "name": "stdout",
     "output_type": "stream",
     "text": [
      "Epoch [340/500], Loss: 0.1348, Accuracy: 94.82%\n",
      "Validation Loss: 0.5233, Validation Accuracy: 83.82%\n"
     ]
    },
    {
     "name": "stdout",
     "output_type": "stream",
     "text": [
      "Epoch [341/500], Loss: 0.1357, Accuracy: 95.05%\n",
      "Validation Loss: 0.6369, Validation Accuracy: 82.76%\n"
     ]
    },
    {
     "name": "stdout",
     "output_type": "stream",
     "text": [
      "Epoch [342/500], Loss: 0.1398, Accuracy: 94.75%\n",
      "Validation Loss: 0.5117, Validation Accuracy: 84.20%\n"
     ]
    },
    {
     "name": "stdout",
     "output_type": "stream",
     "text": [
      "Epoch [343/500], Loss: 0.1398, Accuracy: 94.05%\n",
      "Validation Loss: 0.5842, Validation Accuracy: 84.95%\n"
     ]
    },
    {
     "name": "stdout",
     "output_type": "stream",
     "text": [
      "Epoch [344/500], Loss: 0.1373, Accuracy: 94.74%\n",
      "Validation Loss: 0.6076, Validation Accuracy: 84.20%\n"
     ]
    },
    {
     "name": "stdout",
     "output_type": "stream",
     "text": [
      "Epoch [345/500], Loss: 0.1365, Accuracy: 94.78%\n",
      "Validation Loss: 0.6560, Validation Accuracy: 84.32%\n"
     ]
    },
    {
     "name": "stdout",
     "output_type": "stream",
     "text": [
      "Epoch [346/500], Loss: 0.1287, Accuracy: 94.91%\n",
      "Validation Loss: 0.5763, Validation Accuracy: 83.95%\n"
     ]
    },
    {
     "name": "stdout",
     "output_type": "stream",
     "text": [
      "Epoch [347/500], Loss: 0.1370, Accuracy: 94.75%\n",
      "Validation Loss: 0.5384, Validation Accuracy: 83.95%\n"
     ]
    },
    {
     "name": "stdout",
     "output_type": "stream",
     "text": [
      "Epoch [348/500], Loss: 0.1363, Accuracy: 94.80%\n",
      "Validation Loss: 0.6593, Validation Accuracy: 83.14%\n"
     ]
    },
    {
     "name": "stdout",
     "output_type": "stream",
     "text": [
      "Epoch [349/500], Loss: 0.1204, Accuracy: 95.41%\n",
      "Validation Loss: 0.7637, Validation Accuracy: 82.39%\n"
     ]
    },
    {
     "name": "stdout",
     "output_type": "stream",
     "text": [
      "Epoch [350/500], Loss: 0.1490, Accuracy: 94.35%\n",
      "Validation Loss: 0.6649, Validation Accuracy: 81.82%\n"
     ]
    },
    {
     "name": "stdout",
     "output_type": "stream",
     "text": [
      "Epoch [351/500], Loss: 0.1351, Accuracy: 94.68%\n",
      "Validation Loss: 0.6195, Validation Accuracy: 83.95%\n"
     ]
    },
    {
     "name": "stdout",
     "output_type": "stream",
     "text": [
      "Epoch [352/500], Loss: 0.1368, Accuracy: 95.00%\n",
      "Validation Loss: 0.7645, Validation Accuracy: 81.26%\n"
     ]
    },
    {
     "name": "stdout",
     "output_type": "stream",
     "text": [
      "Epoch [353/500], Loss: 0.1257, Accuracy: 95.14%\n",
      "Validation Loss: 0.7130, Validation Accuracy: 81.76%\n"
     ]
    },
    {
     "name": "stdout",
     "output_type": "stream",
     "text": [
      "Epoch [354/500], Loss: 0.1300, Accuracy: 94.83%\n",
      "Validation Loss: 0.6475, Validation Accuracy: 83.57%\n"
     ]
    },
    {
     "name": "stdout",
     "output_type": "stream",
     "text": [
      "Epoch [355/500], Loss: 0.1255, Accuracy: 95.27%\n",
      "Validation Loss: 0.5448, Validation Accuracy: 85.32%\n"
     ]
    },
    {
     "name": "stdout",
     "output_type": "stream",
     "text": [
      "Epoch [356/500], Loss: 0.1285, Accuracy: 95.19%\n",
      "Validation Loss: 0.5902, Validation Accuracy: 84.51%\n"
     ]
    },
    {
     "name": "stdout",
     "output_type": "stream",
     "text": [
      "Epoch [357/500], Loss: 0.1318, Accuracy: 95.11%\n",
      "Validation Loss: 0.6704, Validation Accuracy: 83.51%\n"
     ]
    },
    {
     "name": "stdout",
     "output_type": "stream",
     "text": [
      "Epoch [358/500], Loss: 0.1255, Accuracy: 95.41%\n",
      "Validation Loss: 0.7003, Validation Accuracy: 83.70%\n"
     ]
    },
    {
     "name": "stdout",
     "output_type": "stream",
     "text": [
      "Epoch [359/500], Loss: 0.1317, Accuracy: 95.03%\n",
      "Validation Loss: 0.5530, Validation Accuracy: 84.82%\n"
     ]
    },
    {
     "name": "stdout",
     "output_type": "stream",
     "text": [
      "Epoch [360/500], Loss: 0.1303, Accuracy: 95.16%\n",
      "Validation Loss: 0.5552, Validation Accuracy: 84.01%\n"
     ]
    },
    {
     "name": "stdout",
     "output_type": "stream",
     "text": [
      "Epoch [361/500], Loss: 0.1130, Accuracy: 96.03%\n",
      "Validation Loss: 0.7326, Validation Accuracy: 82.76%\n"
     ]
    }
   ],
   "source": [
    "import torch.nn as nn\n",
    "import torch.optim as optim\n",
    "model = ResNet10(num_classes=num_classes).to(device)\n",
    "optimizer = optim.Adam(model.parameters(), lr=learning_rate)\n",
    "\n",
    "criterion = nn.CrossEntropyLoss()\n",
    "best_acc, best_loss = train_model(model, train_loader, val_loader, criterion, optimizer, num_epochs=500, save_req=True)\n",
    "\n",
    "print(f\"Final Training -> Best Accuracy: {best_acc:.2f}, Loss: {best_loss:.2f} with Best Config\")\n"
   ]
  },
  {
   "cell_type": "code",
   "execution_count": null,
   "id": "6946cc5e",
   "metadata": {
    "papermill": {
     "duration": null,
     "end_time": null,
     "exception": null,
     "start_time": null,
     "status": "pending"
    },
    "tags": []
   },
   "outputs": [],
   "source": [
    "model = ResNet10(num_classes=num_classes).to(device)\n",
    "model.load_state_dict(torch.load(\"best_model.pth\"))\n",
    "model.eval()  # Set model to evaluation mode\n",
    "\n",
    "# Initialize variables to calculate loss and accuracy\n",
    "total_loss = 0.0\n",
    "correct = 0\n",
    "total = 0\n",
    "\n",
    "# Use no_grad to disable gradient computation for inference\n",
    "with torch.no_grad():\n",
    "    for images, labels in test_loader:\n",
    "        images, labels = images.to(device), labels.to(device)\n",
    "\n",
    "        # Forward pass\n",
    "        outputs = model(images)\n",
    "\n",
    "        # Calculate loss\n",
    "        loss = criterion(outputs, labels)\n",
    "        total_loss += loss.item()\n",
    "\n",
    "        # Calculate accuracy\n",
    "        _, predicted = torch.max(outputs, 1)  # Get predicted class indices\n",
    "        total += labels.size(0)\n",
    "        correct += (predicted == labels).sum().item()\n",
    "\n",
    "# Calculate average loss and accuracy\n",
    "avg_loss = total_loss / len(test_loader)\n",
    "accuracy = (correct / total) * 100  # Convert to percentage\n",
    "\n",
    "print(f\"Test Loss: {avg_loss:.4f}\")\n",
    "print(f\"Test Accuracy: {accuracy:.2f}%\")"
   ]
  }
 ],
 "metadata": {
  "kaggle": {
   "accelerator": "gpu",
   "dataSources": [
    {
     "datasetId": 23777,
     "sourceId": 30378,
     "sourceType": "datasetVersion"
    }
   ],
   "dockerImageVersionId": 30840,
   "isGpuEnabled": true,
   "isInternetEnabled": true,
   "language": "python",
   "sourceType": "notebook"
  },
  "kernelspec": {
   "display_name": "Python 3",
   "language": "python",
   "name": "python3"
  },
  "language_info": {
   "codemirror_mode": {
    "name": "ipython",
    "version": 3
   },
   "file_extension": ".py",
   "mimetype": "text/x-python",
   "name": "python",
   "nbconvert_exporter": "python",
   "pygments_lexer": "ipython3",
   "version": "3.10.12"
  },
  "papermill": {
   "default_parameters": {},
   "duration": null,
   "end_time": null,
   "environment_variables": {},
   "exception": null,
   "input_path": "__notebook__.ipynb",
   "output_path": "__notebook__.ipynb",
   "parameters": {},
   "start_time": "2025-02-01T19:11:04.833198",
   "version": "2.6.0"
  }
 },
 "nbformat": 4,
 "nbformat_minor": 5
}